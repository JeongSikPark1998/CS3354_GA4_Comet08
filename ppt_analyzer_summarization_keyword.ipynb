{
  "nbformat": 4,
  "nbformat_minor": 0,
  "metadata": {
    "colab": {
      "provenance": []
    },
    "kernelspec": {
      "name": "python3",
      "display_name": "Python 3"
    },
    "language_info": {
      "name": "python"
    }
  },
  "cells": [
    {
      "cell_type": "markdown",
      "source": [
        "#Install"
      ],
      "metadata": {
        "id": "CDsjFy833IN-"
      }
    },
    {
      "cell_type": "code",
      "execution_count": 1,
      "metadata": {
        "id": "G9KRTi872-mY",
        "colab": {
          "base_uri": "https://localhost:8080/"
        },
        "outputId": "98a365a1-7862-4323-d148-7962cffc2fca"
      },
      "outputs": [
        {
          "output_type": "stream",
          "name": "stdout",
          "text": [
            "Looking in indexes: https://pypi.org/simple, https://us-python.pkg.dev/colab-wheels/public/simple/\n",
            "Collecting python-pptx\n",
            "  Downloading python-pptx-0.6.21.tar.gz (10.1 MB)\n",
            "\u001b[2K     \u001b[90m━━━━━━━━━━━━━━━━━━━━━━━━━━━━━━━━━━━━━━━━\u001b[0m \u001b[32m10.1/10.1 MB\u001b[0m \u001b[31m29.8 MB/s\u001b[0m eta \u001b[36m0:00:00\u001b[0m\n",
            "\u001b[?25h  Preparing metadata (setup.py) ... \u001b[?25l\u001b[?25hdone\n",
            "Requirement already satisfied: lxml>=3.1.0 in /usr/local/lib/python3.9/dist-packages (from python-pptx) (4.9.2)\n",
            "Requirement already satisfied: Pillow>=3.3.2 in /usr/local/lib/python3.9/dist-packages (from python-pptx) (8.4.0)\n",
            "Collecting XlsxWriter>=0.5.7\n",
            "  Downloading XlsxWriter-3.1.0-py3-none-any.whl (152 kB)\n",
            "\u001b[2K     \u001b[90m━━━━━━━━━━━━━━━━━━━━━━━━━━━━━━━━━━━━━━━\u001b[0m \u001b[32m152.7/152.7 kB\u001b[0m \u001b[31m3.4 MB/s\u001b[0m eta \u001b[36m0:00:00\u001b[0m\n",
            "\u001b[?25hBuilding wheels for collected packages: python-pptx\n",
            "  Building wheel for python-pptx (setup.py) ... \u001b[?25l\u001b[?25hdone\n",
            "  Created wheel for python-pptx: filename=python_pptx-0.6.21-py3-none-any.whl size=470949 sha256=3d42c28fccda0b8355a776b903fb0c124f1441de294c5276cc5afb87285dd487\n",
            "  Stored in directory: /root/.cache/pip/wheels/0e/4a/ed/9653bc799915f52dce3f04d14946fbd85cce9c3cdedc9cfa71\n",
            "Successfully built python-pptx\n",
            "Installing collected packages: XlsxWriter, python-pptx\n",
            "Successfully installed XlsxWriter-3.1.0 python-pptx-0.6.21\n",
            "Looking in indexes: https://pypi.org/simple, https://us-python.pkg.dev/colab-wheels/public/simple/\n",
            "Collecting openai\n",
            "  Downloading openai-0.27.4-py3-none-any.whl (70 kB)\n",
            "\u001b[2K     \u001b[90m━━━━━━━━━━━━━━━━━━━━━━━━━━━━━━━━━━━━━━━━\u001b[0m \u001b[32m70.3/70.3 kB\u001b[0m \u001b[31m1.7 MB/s\u001b[0m eta \u001b[36m0:00:00\u001b[0m\n",
            "\u001b[?25hRequirement already satisfied: tqdm in /usr/local/lib/python3.9/dist-packages (from openai) (4.65.0)\n",
            "Requirement already satisfied: requests>=2.20 in /usr/local/lib/python3.9/dist-packages (from openai) (2.27.1)\n",
            "Collecting aiohttp\n",
            "  Downloading aiohttp-3.8.4-cp39-cp39-manylinux_2_17_x86_64.manylinux2014_x86_64.whl (1.0 MB)\n",
            "\u001b[2K     \u001b[90m━━━━━━━━━━━━━━━━━━━━━━━━━━━━━━━━━━━━━━━━\u001b[0m \u001b[32m1.0/1.0 MB\u001b[0m \u001b[31m15.9 MB/s\u001b[0m eta \u001b[36m0:00:00\u001b[0m\n",
            "\u001b[?25hRequirement already satisfied: idna<4,>=2.5 in /usr/local/lib/python3.9/dist-packages (from requests>=2.20->openai) (3.4)\n",
            "Requirement already satisfied: certifi>=2017.4.17 in /usr/local/lib/python3.9/dist-packages (from requests>=2.20->openai) (2022.12.7)\n",
            "Requirement already satisfied: charset-normalizer~=2.0.0 in /usr/local/lib/python3.9/dist-packages (from requests>=2.20->openai) (2.0.12)\n",
            "Requirement already satisfied: urllib3<1.27,>=1.21.1 in /usr/local/lib/python3.9/dist-packages (from requests>=2.20->openai) (1.26.15)\n",
            "Requirement already satisfied: attrs>=17.3.0 in /usr/local/lib/python3.9/dist-packages (from aiohttp->openai) (23.1.0)\n",
            "Collecting aiosignal>=1.1.2\n",
            "  Downloading aiosignal-1.3.1-py3-none-any.whl (7.6 kB)\n",
            "Collecting frozenlist>=1.1.1\n",
            "  Downloading frozenlist-1.3.3-cp39-cp39-manylinux_2_5_x86_64.manylinux1_x86_64.manylinux_2_17_x86_64.manylinux2014_x86_64.whl (158 kB)\n",
            "\u001b[2K     \u001b[90m━━━━━━━━━━━━━━━━━━━━━━━━━━━━━━━━━━━━━━━\u001b[0m \u001b[32m158.8/158.8 kB\u001b[0m \u001b[31m7.9 MB/s\u001b[0m eta \u001b[36m0:00:00\u001b[0m\n",
            "\u001b[?25hCollecting multidict<7.0,>=4.5\n",
            "  Downloading multidict-6.0.4-cp39-cp39-manylinux_2_17_x86_64.manylinux2014_x86_64.whl (114 kB)\n",
            "\u001b[2K     \u001b[90m━━━━━━━━━━━━━━━━━━━━━━━━━━━━━━━━━━━━━━━\u001b[0m \u001b[32m114.2/114.2 kB\u001b[0m \u001b[31m2.3 MB/s\u001b[0m eta \u001b[36m0:00:00\u001b[0m\n",
            "\u001b[?25hCollecting yarl<2.0,>=1.0\n",
            "  Downloading yarl-1.8.2-cp39-cp39-manylinux_2_17_x86_64.manylinux2014_x86_64.whl (264 kB)\n",
            "\u001b[2K     \u001b[90m━━━━━━━━━━━━━━━━━━━━━━━━━━━━━━━━━━━━━━\u001b[0m \u001b[32m264.6/264.6 kB\u001b[0m \u001b[31m11.1 MB/s\u001b[0m eta \u001b[36m0:00:00\u001b[0m\n",
            "\u001b[?25hCollecting async-timeout<5.0,>=4.0.0a3\n",
            "  Downloading async_timeout-4.0.2-py3-none-any.whl (5.8 kB)\n",
            "Installing collected packages: multidict, frozenlist, async-timeout, yarl, aiosignal, aiohttp, openai\n",
            "Successfully installed aiohttp-3.8.4 aiosignal-1.3.1 async-timeout-4.0.2 frozenlist-1.3.3 multidict-6.0.4 openai-0.27.4 yarl-1.8.2\n",
            "Looking in indexes: https://pypi.org/simple, https://us-python.pkg.dev/colab-wheels/public/simple/\n",
            "Requirement already satisfied: openai in /usr/local/lib/python3.9/dist-packages (0.27.4)\n",
            "Requirement already satisfied: aiohttp in /usr/local/lib/python3.9/dist-packages (from openai) (3.8.4)\n",
            "Requirement already satisfied: requests>=2.20 in /usr/local/lib/python3.9/dist-packages (from openai) (2.27.1)\n",
            "Requirement already satisfied: tqdm in /usr/local/lib/python3.9/dist-packages (from openai) (4.65.0)\n",
            "Requirement already satisfied: certifi>=2017.4.17 in /usr/local/lib/python3.9/dist-packages (from requests>=2.20->openai) (2022.12.7)\n",
            "Requirement already satisfied: charset-normalizer~=2.0.0 in /usr/local/lib/python3.9/dist-packages (from requests>=2.20->openai) (2.0.12)\n",
            "Requirement already satisfied: idna<4,>=2.5 in /usr/local/lib/python3.9/dist-packages (from requests>=2.20->openai) (3.4)\n",
            "Requirement already satisfied: urllib3<1.27,>=1.21.1 in /usr/local/lib/python3.9/dist-packages (from requests>=2.20->openai) (1.26.15)\n",
            "Requirement already satisfied: frozenlist>=1.1.1 in /usr/local/lib/python3.9/dist-packages (from aiohttp->openai) (1.3.3)\n",
            "Requirement already satisfied: async-timeout<5.0,>=4.0.0a3 in /usr/local/lib/python3.9/dist-packages (from aiohttp->openai) (4.0.2)\n",
            "Requirement already satisfied: yarl<2.0,>=1.0 in /usr/local/lib/python3.9/dist-packages (from aiohttp->openai) (1.8.2)\n",
            "Requirement already satisfied: attrs>=17.3.0 in /usr/local/lib/python3.9/dist-packages (from aiohttp->openai) (23.1.0)\n",
            "Requirement already satisfied: aiosignal>=1.1.2 in /usr/local/lib/python3.9/dist-packages (from aiohttp->openai) (1.3.1)\n",
            "Requirement already satisfied: multidict<7.0,>=4.5 in /usr/local/lib/python3.9/dist-packages (from aiohttp->openai) (6.0.4)\n"
          ]
        }
      ],
      "source": [
        "!pip install python-pptx\n",
        "\n",
        "from google.colab import drive\n",
        "import os\n",
        "import pptx\n",
        "from pptx.enum.shapes import MSO_SHAPE_TYPE\n",
        "\n",
        "!pip install openai\n",
        "import openai\n",
        "import os\n",
        "import time\n",
        "import pandas as pd\n",
        "!pip install --upgrade openai"
      ]
    },
    {
      "cell_type": "code",
      "source": [
        "#your API key\n",
        "os.environ[\"OPENAI_API_KEY\"] = '[YOUR_API_KEY]'\n",
        "\n",
        "#load ppt from the google drive\n",
        "drive.mount('/content/gdrive')\n",
        "os.chdir(\"/content/gdrive/My Drive/analyzer/input_ppt\")"
      ],
      "metadata": {
        "id": "2jZONazU3Og2",
        "colab": {
          "base_uri": "https://localhost:8080/"
        },
        "outputId": "4fea6af9-16c5-4730-bd12-df8bef22ff7e"
      },
      "execution_count": 2,
      "outputs": [
        {
          "output_type": "stream",
          "name": "stdout",
          "text": [
            "Mounted at /content/gdrive\n"
          ]
        }
      ]
    },
    {
      "cell_type": "markdown",
      "source": [
        "# Functions"
      ],
      "metadata": {
        "id": "fF4p7npO3oAx"
      }
    },
    {
      "cell_type": "code",
      "source": [
        "class ChatApp: #no demo, only template\n",
        "    def __init__(self, input):\n",
        "        # Setting the API key to use the OpenAI API\n",
        "        openai.api_key = os.getenv(\"OPENAI_API_KEY\")\n",
        "        self.messages = input\n",
        "\n",
        "    def chat(self, message):\n",
        "        self.messages.append({\"role\": \"user\", \"content\": message})\n",
        "        response = openai.ChatCompletion.create(\n",
        "            model=\"gpt-3.5-turbo\",\n",
        "            messages=self.messages,\n",
        "            temperature=0.7,\n",
        "            top_p = 1,\n",
        "        )\n",
        "        self.messages.append({\"role\": \"assistant\", \"content\": response[\"choices\"][0][\"message\"].content})\n",
        "\n",
        "        for i in range(2):\n",
        "          self.messages.pop()\n",
        "\n",
        "        return response[\"choices\"][0][\"message\"][\"content\"]"
      ],
      "metadata": {
        "id": "I4xy491y3vKm"
      },
      "execution_count": 3,
      "outputs": []
    },
    {
      "cell_type": "code",
      "source": [
        "def make_prompt_format(system, user, assistant): #prompt demonstration\n",
        "  #system\n",
        "  input = [{\"role\": \"system\", \"content\": system}]\n",
        "  if user != \"\":\n",
        "    #user\n",
        "    demo_user = []\n",
        "    demo_user.append(user)\n",
        "    #assistant\n",
        "    demo_assistant = []\n",
        "    demo_assistant.append(assistant)\n",
        "\n",
        "    #make format for API\n",
        "    demo = pd.DataFrame({'user': demo_user, 'assistant': demo_assistant})\n",
        "    for prompt, completion in zip(demo['user'], demo['assistant']):\n",
        "      message_dict = {\"role\": \"user\", \"content\": prompt}\n",
        "      input.append(message_dict)\n",
        "      message_dict = {\"role\": \"assistant\", \"content\": completion}\n",
        "      input.append(message_dict)\n",
        "    \n",
        "  return input"
      ],
      "metadata": {
        "id": "c0_y_y_e9ZBu"
      },
      "execution_count": 4,
      "outputs": []
    },
    {
      "cell_type": "markdown",
      "source": [
        "#Main"
      ],
      "metadata": {
        "id": "xRDqP8AX-_7-"
      }
    },
    {
      "cell_type": "markdown",
      "source": [
        "##Load Data"
      ],
      "metadata": {
        "id": "hiI_mhK24TVe"
      }
    },
    {
      "cell_type": "code",
      "source": [
        "#load ppt file\n",
        "ppt = pptx.Presentation('Architecture_Design.pptx')\n",
        "\n",
        "#for full slide\n",
        "full_slide = []\n",
        "content_full = \"Entire contents: \"\n",
        "for i, slide in enumerate(ppt.slides):\n",
        "  content_full = content_full + f\"  *slide {i}: \"\n",
        "  for shape in slide.shapes:\n",
        "    if hasattr(shape, \"text\"):\n",
        "      content_full = content_full + shape.text\n",
        "full_slide = content_full\n",
        "\n",
        "# print(\"*\"*10)\n",
        "# print(full_slide)\n",
        "\n",
        "#for each slide, keywords\n",
        "each_slide = {} #dictionary form\n",
        "for i, slide in enumerate(ppt.slides):\n",
        "  content_each = \"\"\n",
        "  for shape in slide.shapes:\n",
        "    if hasattr(shape, \"text\"):\n",
        "      content_each = content_each + shape.text\n",
        "  each_slide[f'{i}'] = content_each \n",
        "\n",
        "# print(\"*\"*10)\n",
        "# print(each_slide)"
      ],
      "metadata": {
        "id": "kVsKSlFW4VlJ"
      },
      "execution_count": 5,
      "outputs": []
    },
    {
      "cell_type": "markdown",
      "source": [
        "##Full Slide"
      ],
      "metadata": {
        "id": "87o4pEDk4I2t"
      }
    },
    {
      "cell_type": "code",
      "source": [
        "#prompt demonstration\n",
        "full_system = \"I want you to summarize the given content. I will provide you with the entire contents of a PowerPoint presentation, and you will provide me with a summary of the entire slides.\"\n",
        "full_user = \"\"\n",
        "full_assistant = \"\"\n",
        "prompt_full = make_prompt_format(full_system, full_user, full_assistant)\n",
        "\n",
        "#summarize full slide\n",
        "app_full = ChatApp(prompt_full)\n",
        "message = full_slide\n",
        "result_full = app_full.chat(message)\n",
        "time.sleep(3) #API call restriction, 20 calls per a minute\n",
        "\n",
        "#print result\n",
        "result_full"
      ],
      "metadata": {
        "id": "cZgXLhJK4Q9I",
        "colab": {
          "base_uri": "https://localhost:8080/",
          "height": 125
        },
        "outputId": "6c3704c0-85df-4226-bb56-6c685d664ec3"
      },
      "execution_count": 6,
      "outputs": [
        {
          "output_type": "execute_result",
          "data": {
            "text/plain": [
              "'Architectural design is a critical phase that identifies and organizes the main structural components of a system. The output is an architectural model that describes how the system is organized as a set of communicating components. The architecture of a software system affects performance, efficiency, security, and maintainability. Design flaws can result in project failure. Architectural design objectives include maintainability, use of commercial off-the-shelf parts, system performance, security, safety, availability, reliability, fault tolerance, and recovery. Software design is a two-step process that includes architectural design and detailed design. There are four types of systems/subsystems: interactive, event-driven, transformational, and database. Popular software architecture styles include client-server, n-tier or multi-tier, main program and subroutines, event-driven, and persistence framework. The architectural design process involves selecting the appropriate style for the system, specifying subsystem functions and interfaces, and reviewing the design to ensure that requirements and objectives are met. Applying agile principles involves valuing working software over comprehensive documentation and applying the 20/80 rule.'"
            ],
            "application/vnd.google.colaboratory.intrinsic+json": {
              "type": "string"
            }
          },
          "metadata": {},
          "execution_count": 6
        }
      ]
    },
    {
      "cell_type": "markdown",
      "source": [
        "##Each Slide"
      ],
      "metadata": {
        "id": "8ZqMshgm4MrY"
      }
    },
    {
      "cell_type": "code",
      "source": [
        "#prompt demonstration\n",
        "each_system = \"I want you to summarize the given content. I will provide you with the contents of a PowerPoint presentation, and you will provide me with a summary of the slide.\"\n",
        "each_user = \"Design flaws – a few examples What if the system does not handle multiple customers purchasing items simultaneously ?\\n\\t\\uf0e0the shopping cart becomes common for both customers! \\uf04c\\n\\nWhat if web server does too much processing for each transaction? \\n\\t\\uf0e0capacity of the web server comes down drastically & the web server crashes when too many requests come within a small-time window!\\n\\nWhat if the security requirements are ignored ? \\n\\t\\uf0e0hacker can manipulate the prices of items in the shopping cart \\n\\nWhat if the team misses to identify several generic components for which COTS are available ?\\n\\t\\uf0e0the team develops everything in-house…\\n\\n\\n\"\n",
        "each_assistant = \"The PowerPoint presentation highlights several design flaws such as the shopping cart becoming common for multiple customers, the web server crashing due to excessive processing, hackers manipulating prices due to ignored security requirements, and developing everything in-house due to missed identification of available COTS components.\"\n",
        "prompt_each = make_prompt_format(each_system, each_user, each_assistant)\n",
        "\n",
        "#summarize each slide\n",
        "result_each = {}\n",
        "app_each = ChatApp(prompt_each)\n",
        "for i in range(len(each_slide)):\n",
        "  message = each_slide[f'{i}']\n",
        "  res = app_each.chat(message)\n",
        "  time.sleep(3) #API call restriction, 20 calls per a minute\n",
        "  result_each[f'{i}'] = res\n",
        "\n",
        "#print result\n",
        "result_each"
      ],
      "metadata": {
        "colab": {
          "base_uri": "https://localhost:8080/"
        },
        "id": "2RR9dnM37YXD",
        "outputId": "ee21ac1c-e87d-44a9-dac2-313de4a880cc"
      },
      "execution_count": 7,
      "outputs": [
        {
          "output_type": "execute_result",
          "data": {
            "text/plain": [
              "{'0': \"Architectural design refers to the process of defining the overall structure, components, and behavior of a software system. It involves identifying and defining the system's key components and the relationships between them. The goal of architectural design is to create a blueprint for the system that will guide the development process and ensure that the resulting product meets its requirements. Architectural design includes defining the system's modules, interfaces, and data structures, as well as the patterns and principles that will guide the implementation. Good architectural design is essential to creating a system that is reliable, maintainable, and scalable.\",\n",
              " '1': 'The PowerPoint presentation discusses the importance of architectural design in identifying the main components and relationships in a system. The output of this phase is an architectural model that impacts system performance, efficiency, security, and maintainability. The presentation emphasizes that architectural design flaws can result in project failure.',\n",
              " '2': 'The presentation provides examples of design flaws including the inability to handle multiple customers purchasing items simultaneously, a web server that does too much processing for each transaction leading to crashes, ignoring security requirements which can allow hackers to manipulate prices in a shopping cart, and missing available COTS components leading to developing everything in-house.',\n",
              " '3': 'This PowerPoint presentation provides examples of design flaws in a system. These include a shopping cart becoming common for multiple customers, web server crashes due to excessive processing, hackers manipulating prices due to ignored security requirements, and developing everything in-house due to missed identification of available COTS components.',\n",
              " '4': 'The architectural design process involves several steps, including understanding the requirements, defining the system architecture, creating a design prototype, evaluating and refining the design, and documenting the design. During the process, it is important to consider various factors such as functionality, performance, scalability, reliability, security, and usability. The design should also adhere to relevant standards and guidelines. Once the design is finalized, it should be reviewed and approved by stakeholders before implementation.',\n",
              " '5': 'The objective of architectural design is to ensure maintainability of the system. To achieve this objective, the solution is to use fine-grain, self-contained components that can be easily changed. It is important to separate producers of data from consumers and avoid shared data structures.',\n",
              " '6': 'The architectural design objectives include the use of Commercial off-the-shelf (COTS) parts, determining if they are required or prohibited and to what extent they will be reused. Additionally, the system performance needs to be considered, whether it needs to handle real-time data or a large number of transactions. The solution is to localize critical operations and minimize communications to improve overall system performance.',\n",
              " '7': 'The Architectural Design Objectives include Security and Safety. The solution for Security is to use a layered architecture with critical assets in the inner layers, while for Safety, safety-related operations are co-located in a single or small number of components.',\n",
              " '8': 'The architectural design objectives discussed in this slide are availability and reliability. For availability, the solution is to include redundant components that can be replaced and updated without stopping the system. For reliability, the solution is to design components with high cohesion and loose coupling to ensure that the system works correctly under assumed conditions.',\n",
              " '9': \"The architectural design objectives include fault tolerance, which refers to the system's ability to continue functioning when faced with software problems, and recovery, which involves returning to the previous state after a system crash.\",\n",
              " '10': 'The PowerPoint presentation discusses several architectural design objectives, including maintainability, the use of commercial off-the-shelf (COTS) parts, system performance, security, safety, availability, reliability, software fault tolerance, and recovery.',\n",
              " '11': 'The PowerPoint presentation discusses Chapter 6 on Architectural Design and the importance of making sound design decisions. It emphasizes that the decisions made during this phase can have a significant impact on the success of the software project. The presentation emphasizes the importance of considering various factors such as performance, security, scalability, maintainability, and usability while making architectural design decisions. The presentation also highlights the need for following established design principles and patterns to ensure the software architecture is robust, flexible, and adaptable to changing requirements.',\n",
              " '12': 'The presentation discusses architectural views in chapter 6 of the architectural design.',\n",
              " '13': 'The 4 + 1 view model of software architecture consists of five views that show the key abstractions in the system as objects or object classes, how the system is composed of interacting processes at run-time, how the software is decomposed for development, how the system hardware is structured, and how software components are distributed across the processors in the system.',\n",
              " '14': \"Chapter 6 of the presentation discusses the architectural design of a packing robot control system. The focus is on the context and conceptual view of the system's architecture. The presentation may include diagrams and descriptions of the system's components, interactions, and relationships. The architectural design is critical to ensure that the packing robot control system meets its functional and non-functional requirements.\",\n",
              " '15': 'The PowerPoint presentation explains that while an agile approach can implement a few requirements in each sprint, the same cannot be applied to the architecture of a complex system. Refactoring or revamping the architecture may be as expensive and time-consuming as restarting from scratch, which means that agile approach is primarily for development and not beyond.',\n",
              " '16': 'The PowerPoint presentation explains that software design is a two-step process consisting of architectural design, which organizes software into components, and detailed design, which describes the behavior of these components. The output of this process is a set of models and artifacts that document the major decisions made during the design phase.',\n",
              " '17': 'The PowerPoint presentation discusses four types of systems/subsystems, which are:\\n\\n1. Open Systems: These are systems that interact with their environment, exchange information, and have few boundaries between the system and its environment.\\n\\n2. Closed Systems: These are systems that are self-contained and do not interact with their environment. They have well-defined boundaries that separate them from the environment.\\n\\n3. Subsystems: These are systems that are part of a larger system and perform specific functions within that system.\\n\\n4. Embedded Systems: These are systems that are integrated into other systems or products and perform specific functions within them. They are often designed to be low-cost and low-power, and they may have limited user interfaces.',\n",
              " '18': 'Interactive Systems refer to computer systems that allow for direct communication between the user and the computer. These systems provide immediate feedback to the user based on their input, allowing for a more dynamic and engaging user experience. Examples of interactive systems include video games, mobile applications, and virtual reality systems. The design of interactive systems is crucial to ensuring that they are user-friendly, efficient, and meet the needs of the user. Factors such as usability, accessibility, and user satisfaction are all important considerations when designing interactive systems. Testing and evaluation are also important aspects of designing interactive systems to ensure that they meet the intended goals and provide a positive user experience.',\n",
              " '19': 'The PowerPoint presentation outlines the characteristics of interactive systems, which include a fixed sequence of actor requests and system responses, processing and responding to each request, typically interacting with one actor (human or device), beginning and ending with the actor, exhibiting a client-server relationship, and reflecting the system state on the progress of the business process represented by the use case.',\n",
              " '20': 'The PowerPoint presentation discusses interactive systems, which involve a nearly fixed sequence of requests and responses between the user and the system. Although each use case only involves one user, the system can handle multiple instances in parallel. Some examples of interactive systems include online shopping websites, social media platforms, and online banking systems.',\n",
              " '21': 'The PowerPoint slide discusses interactive systems, which involve a nearly fixed sequence of requests and responses between the user and the system. While each use-case only involves one actor, the system can handle multiple instances in parallel. Examples of interactive systems include online shopping sites, airline reservations, online tax preparation, online tests, and telephone calls.',\n",
              " '22': 'An event-driven system is one that responds to events, which are typically triggered by user actions or sensor inputs. These events can be used to trigger actions or processes within the system, such as updating data or displaying new information. These systems are often used in real-time applications, such as financial trading systems, where fast response times are critical. In event-driven systems, the flow of control is largely determined by the events that occur, rather than being driven by a central controller. This allows for greater flexibility and scalability, as events can be handled independently and in parallel. However, designing and testing event-driven systems can be more complex than traditional systems, as the interactions between different events and processes must be carefully managed. Overall, event-driven systems are a powerful and flexible approach to software development that can help organizations to build responsive and scalable applications.',\n",
              " '23': 'The PowerPoint presentation outlines the characteristics of event-driven systems, which include receiving events and controlling external entities, responding to requests randomly, having state-dependent responses, interacting with multiple external entities, often involving hardware or software components instead of people, not reflecting the progress of a computation, and needing to meet timing, temporal, and timed temporal constraints.',\n",
              " '24': 'Event-driven systems are those that receive events from external entities and respond accordingly. Examples of such systems include most embedded systems, such as traffic lights, temperature control systems, and security systems. These systems rely on input from sensors or other devices to trigger specific actions or responses, making them highly efficient and effective in managing and controlling various aspects of their environment.',\n",
              " '25': 'The PowerPoint presentation explains that event-driven systems receive events from external entities and respond based on the received event. Embedded systems mostly use this approach, with examples including periodic reporting from measurement devices in a jet, sensors in railway tracks, text messages from cellphones, and location updates from cellphones to applications.',\n",
              " '26': \"Transformational systems refer to information systems that bring about significant changes in an organization's structure, processes, or operations. These systems are typically large-scale and complex, with the potential to affect an organization's entire business model. They often involve new technologies, require significant investments, and have a long-term impact on the organization's strategy and competitiveness. Examples of transformational systems include enterprise resource planning (ERP) systems, customer relationship management (CRM) systems, and supply chain management (SCM) systems. The successful implementation of transformational systems requires careful planning, effective change management, and strong leadership support.\",\n",
              " '27': 'The characteristics of Transformational Systems include a network of information-processing activities that transform input to output, involving control flows with sequencing, conditional branching, parallel threads, and synchronous/asynchronous behavior. These systems typically operate as a batch process with little interaction between the system and actor, are stateless, and may perform computation-intensive algorithms. Actors can be human beings, devices, or other systems.',\n",
              " '28': 'Transformational systems are complex systems that involve a network of information processing activities. Some examples of transformational systems are:\\n\\n1. Enterprise Resource Planning (ERP) systems that integrate various business functions such as finance, human resources, and supply chain management.\\n\\n2. Customer Relationship Management (CRM) systems that manage interactions with customers and help organizations improve customer satisfaction.\\n\\n3. Healthcare Information Systems that manage patient data, track medical records, and support clinical decision-making.\\n\\n4. Supply Chain Management (SCM) systems that optimize the flow of goods and services from suppliers to customers.\\n\\n5. Business Intelligence (BI) systems that help organizations extract insights from data to make informed decisions.\\n\\n6. E-commerce systems that enable online purchasing, payments, and delivery of products and services.\\n\\n7. Transportation Management Systems (TMS) that manage logistics operations such as route planning, shipment tracking, and carrier selection.\\n\\n8. Manufacturing Execution Systems (MES) that manage production processes, track inventory, and monitor equipment performance.',\n",
              " '29': 'The PowerPoint slide discusses transformational systems, which are networks of information processing activities. It provides the example of a compiler, which transforms source code into executable code through various stages such as lexical analysis, syntax analysis, code generation, and code optimization.',\n",
              " '30': 'The PowerPoint presentation discusses transformational systems as a network of information processing activities, with examples such as compilers for source code to executable code, workflow management for multi-step approval processes, database transformation and merge for company mergers or information gathering, medical data format changes for electronic medical records, and drive data upload from electric cars at home.',\n",
              " '31': 'The PowerPoint slide describes the characteristics of Database Systems or Object-Persistence Systems, which include providing object storage and retrieval capabilities, hiding implementation from the rest of the system, efficient storage and handling of structured and complex data, and being best suited as a subsystem in a larger system for database functionality. The slide also gives an example of systems that primarily offer lookup functionality.',\n",
              " '32': 'The client-server architecture is a popular software architecture style where multiple client computers request services from a centralized server. An example of this architecture style is the World Wide Web where the server hosts websites and multiple clients (web browsers) request and receive the contents of the website. Another example is email, where the email server hosts the email accounts, and multiple clients (email clients) request and receive the email messages.',\n",
              " '33': 'The popular software architecture style of client-server involves multiple clients accessing a centralized server over a network. Examples of this architecture include web-based applications, file servers, and file transfer protocol (FTP). Clients interface with the server to request services and display the results returned by the server.',\n",
              " '34': \"The PowerPoint presentation explains the application of client-server architecture style using the ABHS example. It notes that clients can be easily added or removed from the system without affecting the server's work, except for a potential impact on performance. Additionally, it highlights that the passenger check-in clients are lightweight as the server provides most of the required services.\",\n",
              " '35': 'The slide discusses the client-server architecture and the distributed system model, which distribute data and processing across different components. This architecture can be implemented on a single computer and includes a set of servers that provide specific services and a set of clients that call on these services. The network enables clients to access servers.',\n",
              " '36': 'The PowerPoint presentation discusses the client-server pattern in chapter 6 of architectural design. This pattern involves a model where clients request services or resources from servers, which then provide them. The presentation explains that this type of architecture is beneficial for scalability, as it allows for multiple clients to access the same resources simultaneously. Additionally, it allows for the separation of concerns, as the client is only responsible for making requests and the server is responsible for providing the requested resources. The presentation also highlights the importance of choosing appropriate communication protocols and designing robust server architectures to ensure efficient communication and resource allocation.',\n",
              " '37': 'The PowerPoint presentation discusses the architectural design of a film library system based on a client-server architecture. The system is designed to allow clients to access and browse a database of movies, with the server handling all the data processing and storage. The presentation highlights the various components of the architecture, including the client-side UI, the server-side application logic, and the database. It also discusses the communication protocols used between the client and server, as well as the security measures in place to protect the system from unauthorized access. Overall, the presentation provides a comprehensive overview of the design considerations that went into creating this film library system using the client-server architecture.',\n",
              " '38': 'The second popular software architecture style is the N-tier or multi-tier architecture. It builds upon the client-server architecture by separating the presentation, processing, and data management functions both logically and physically. This architecture style typically consists of three or more tiers, with each tier responsible for specific functionality. The benefits of this architecture include scalability, flexibility, and maintainability.',\n",
              " '39': 'N-tier or multi-tier architecture is a software architecture that divides an application into logical layers or tiers, where each layer or tier is responsible for specific functionality. The presentation suggests that this approach can improve scalability, performance, and maintainability of the application. The tiers typically include a presentation layer, application layer, business logic layer, and data access layer. The presentation layer interacts with the user, the application layer manages the flow of the application, the business logic layer contains the business rules, and the data access layer interacts with the database. N-tier architecture also allows for the flexibility to replace or update individual components without affecting the entire application.',\n",
              " '40': 'The OSI (Open Systems Interconnection) 7-layer architecture for networking is a framework that defines the communication process between two endpoints in a network. \\n\\nThe seven layers of the OSI model, from the bottom up, are:\\n1. Physical layer: Deals with the physical communication of data, including electrical specifications, physical connectors, and signaling procedures.\\n2. Data link layer: Provides reliable communication over a single link, ensuring that data is delivered error-free, in sequence, and without duplication.\\n3. Network layer: Determines the best path for data to travel between nodes in a network and manages traffic congestion.\\n4. Transport layer: Provides reliable end-to-end delivery of data and manages flow control, error recovery, and retransmission of lost packets.\\n5. Session layer: Establishes, manages, and terminates sessions between applications running on different devices.\\n6. Presentation layer: Formats and presents data in a way that is meaningful to the application layer.\\n7. Application layer: Provides an interface for applications to access network services and communicates with the presentation layer to exchange data. \\n\\nThe OSI model provides a standardized way for network devices and applications to communicate with each other, regardless of the manufacturer or technology used.',\n",
              " '41': 'As an AI language model, I am not capable of asking questions unless provided with relevant information. Please let me know how can I assist you further?',\n",
              " '42': \"Data travels through a network in the form of packets. When a user sends data, it is broken down into smaller pieces called packets. Each packet contains the sender's address, the recipient's address, and a piece of the original data. These packets then travel through the network from one device to another until they reach their final destination. At each step, the packets are checked for errors and retransmitted if necessary. Once all the packets have arrived at their destination, they are reassembled into the original data. This process of breaking down data into packets, sending them across the network, and then reassembling them is known as packet switching.\",\n",
              " '43': 'I hope my summary was helpful. Let me know if you need a summary of any other slides.',\n",
              " '44': 'As an AI language model, I already have knowledge of the OSI 7 layers. However, since you are asking me this question, I will tell you that the OSI (Open Systems Interconnection) model is a conceptual framework for understanding how communication systems operate. It consists of seven layers, each with its own set of protocols and functions. The layers are as follows: \\n\\n1. Physical layer \\n2. Data link layer \\n3. Network layer \\n4. Transport layer \\n5. Session layer \\n6. Presentation layer \\n7. Application layer \\n\\nEach layer is responsible for a specific aspect of communication, from the physical transmission of data to the formatting and presentation of information. By dividing communication systems into layers, the OSI model makes it easier to develop, maintain, and troubleshoot complex networks.',\n",
              " '45': \"The Layered architecture pattern is the focus of Chapter 6 in the Architectural Design presentation. This pattern involves breaking down an application into different layers, with each layer responsible for a specific aspect of the application's functionality. The layers are arranged in a hierarchical manner, with higher layers relying on lower layers for support. This pattern allows for easier maintenance and scalability of the application. The presentation may cover the benefits and drawbacks of the Layered architecture pattern, as well as some examples of its implementation in real-world applications.\",\n",
              " '46': \"The presentation discusses a generic layered architecture and its application in the iLearn system. Chapter 6 of the presentation focuses on architectural design and the importance of a layered architecture. The iLearn system's architecture is also discussed in the presentation.\",\n",
              " '47': 'The main program and subroutines architecture is a popular software architecture style that arranges the system components in a tree structure. The computation starts with the main program or root and is recursively carried out by its descendants down the tree. This architecture is suitable for designing transformational or workflow-oriented systems and is derived from Data flow diagram in SA/SD.',\n",
              " '48': 'The PowerPoint presentation discusses the architecture of a system, which includes a main program and subroutines. The data flow model is also mapped to the architecture design. The presentation explains how the data flows through the system and how it is processed by the different subroutines. The architecture design is responsible for managing the flow of data and ensuring that it is processed correctly. The mapping of the data flow model to the architecture design is important to ensure that the system functions properly and meets the requirements of the users.',\n",
              " '49': 'The fourth popular software architecture style is the Event-driven System architecture. It involves a state-based controller and multiple components that fall under its control. This architecture style exhibits state-dependent behavior.',\n",
              " '50': \"An example of an event-driven system architecture is a smart home automation system that uses sensors to detect events such as motion detection, temperature changes, or door/window opening. These events trigger actions such as turning on/off lights, adjusting thermostat settings, or sending alerts to the homeowner's mobile device. The system architecture consists of multiple components including sensors, event processing engines, and actuators. The sensors detect events and send signals to the event processing engines, which analyze the signals and trigger appropriate actions through the actuators. The system can be programmed to respond to specific events in different ways, providing personalized automation for the homeowner.\",\n",
              " '51': 'The fifth popular software architecture style is the Persistence Framework architecture, which primarily focuses on saving data or objects to a database, allowing users to retrieve the data later.',\n",
              " '52': 'Sure, here are several more architecture styles:\\n\\n1. Microservices architecture: This architecture breaks down an application into small, independent services that communicate with each other through APIs.\\n\\n2. Layered architecture: This architecture separates an application into distinct layers, such as presentation, application, and data layers, to improve maintainability and scalability.\\n\\n3. Event-driven architecture: This architecture involves the production, detection, consumption, and reaction to events. It enables applications to respond to changes in real-time and can be useful in IoT applications.\\n\\n4. Domain-driven design architecture: This architecture focuses on modeling a system based on the business domain and its requirements rather than technical considerations.\\n\\n5. Serverless architecture: This architecture allows developers to build and run applications without worrying about server management. It relies on third-party cloud services to handle backend tasks.',\n",
              " '53': \"Sure, here are several more architecture styles:\\n\\n1. Microservices: This architecture style divides the application into smaller, independent services that can be developed, deployed, and maintained separately.\\n2. Event-Driven: This architecture style emphasizes the production, detection, consumption of, and reaction to events.\\n3. Service-Oriented: This architecture style divides the application into services that communicate with each other through a common interface, typically using web services or message queues.\\n4. Layered: This architecture style divides the application into layers, with each layer responsible for a different aspect of the application's functionality.\\n5. Domain-Driven Design: This architecture style focuses on modeling the domain of the application, using a common language and ubiquitous language to communicate between developers and business stakeholders.\",\n",
              " '54': 'Sure, here are some more architecture styles:\\n\\n1. Event-driven architecture (EDA) - This architecture style focuses on the production, detection, consumption, and reaction to events that occur in an application or system.\\n\\n2. Service-oriented architecture (SOA) - This architecture style involves using services as the building blocks of an application or system, with each service performing a specific function and communicating with other services through a common interface.\\n\\n3. Microservices architecture - This architecture style is a variant of SOA and involves breaking an application or system down into smaller, independent services that can be developed, deployed, and scaled independently.\\n\\n4. Layered architecture - This architecture style involves breaking an application or system down into layers, with each layer performing a specific function and communicating with adjacent layers through well-defined interfaces.\\n\\n5. Monolithic architecture - This architecture style involves building an application or system as a single, self-contained unit, with all functionality tightly coupled and dependent on each other.',\n",
              " '55': '1. Event-Driven Architecture (EDA): This architecture style is mainly used for designing systems that respond to events or messages. It consists of event producers, event processors, and event consumers.\\n\\n2. Microservices Architecture: This architecture style structures an application as a collection of small autonomous services, each running in its own process and communicating with lightweight mechanisms like HTTP/REST.\\n\\n3. Layered Architecture: This architecture style divides the application into a set of horizontal layers, each with a specific responsibility. Typically, the layers include presentation, business logic, and data storage.\\n\\n4. Service-Oriented Architecture (SOA): This architecture style is based on the concept of service orientation, where services are independent units of functionality that can be accessed over a network.\\n\\n5. Cloud-native Architecture: This architecture style is optimized for cloud computing environments and takes advantage of cloud services and technologies to build scalable and resilient applications. \\n\\n6. Domain-Driven Design (DDD): This architecture style focuses on designing software based on the domain or business problem it is intended to solve. It emphasizes collaboration between domain experts and software developers.',\n",
              " '56': '1. Layered Architecture: This style divides the software system into distinct layers with each layer responsible for a specific functionality. The layers interact with each other through well-defined interfaces.\\n\\n2. Microservices Architecture: This style structures the application as a collection of small, independent services that can be developed, deployed and scaled independently.\\n\\n3. Event-Driven Architecture: This style focuses on the production, detection, consumption, and reaction to events that occur in the system. Events can trigger actions or other events in a loosely coupled manner.\\n\\n4. Space-Based Architecture: This style relies on a distributed set of services that communicate through a shared memory space. It allows for high scalability and performance.\\n\\n5. Service-Oriented Architecture (SOA): This style organizes the system as a set of services that communicate with each other to achieve a specific goal. The services can be developed and deployed independently.\\n\\n6. Domain-Driven Design (DDD): This style focuses on the business domain and its logic. It aims to create a shared understanding of the domain by developers and domain experts.',\n",
              " '57': \"1. Microservices Architecture: This style involves breaking down a large application into smaller, independent services that can be developed, deployed, and maintained separately. \\n\\n2. Layered Architecture: This style involves breaking down an application into distinct layers, where each layer is responsible for a specific aspect of the application's functionality. \\n\\n3. Client-Server Architecture: This style involves dividing an application into two parts - the client, which is responsible for displaying the user interface, and the server, which is responsible for the application's logic and data storage. \\n\\n4. Event-Driven Architecture: This style involves building an application around events that occur within the system. \\n\\n5. Domain-Driven Design: This style involves designing an application based on the business domain it operates in, with a focus on the core business logic and data models. \\n\\n6. Service-Oriented Architecture: This style involves building an application as a collection of services that can be accessed and reused by other applications. \\n\\n7. Message-Driven Architecture: This style involves building an application around a messaging system, where messages are used to communicate between different parts of the system.\",\n",
              " '58': 'The architectural design process can be compared to selecting a dress for a specific occasion. Just as one needs to consider the type of event they are attending and the style of dress that would be appropriate, an architect needs to consider the purpose of the building and the design style that would be suitable. The type of event can be compared to the function of the building, such as a residential or commercial property, while the style of dress can be compared to the architectural style, such as modern or traditional. Both processes require careful consideration of the intended purpose and desired outcome.',\n",
              " '59': 'The content refers to the architectural style of a system.',\n",
              " '60': 'The PowerPoint presentation discusses mapping system types to architecture styles. It suggests that batch processing systems are best suited for a hierarchical architecture style, transaction processing systems are ideal for a client-server architecture style, and event processing systems are most effectively implemented using a publish-subscribe architecture style.',\n",
              " '61': \"As an AI language model, I can provide you with some general guidelines for performing custom architectural design, but I cannot perform the task myself. Here are some steps you can take:\\n\\n1. Identify the customer requirements: Understand the needs of the customer and what they expect from the system.\\n\\n2. Analyze the problem: Identify the problem that needs to be solved and the goals that need to be achieved.\\n\\n3. Define the system architecture: Determine the system architecture that will best suit the customer's requirements and goals.\\n\\n4. Identify the system components: Identify the components that will be needed to build the system.\\n\\n5. Design the interfaces: Design the interfaces that will allow the components to communicate with each other.\\n\\n6. Define the data architecture: Define the data architecture that will be used to store and retrieve data.\\n\\n7. Evaluate the design: Evaluate the design to ensure that it meets the customer's requirements and goals.\\n\\n8. Refine the design: Refine the design as necessary to ensure that it is efficient, effective, and scalable.\\n\\n9. Implement the design: Implement the design using the appropriate programming languages and tools.\\n\\n10. Test the system: Test the system to ensure that it works correctly and meets the customer's requirements and goals.\\n\\n11. Deploy the system: Deploy the system to the customer's environment, and provide support as necessary.\",\n",
              " '62': \"As an AI language model, I am not able to perform architectural design tasks since it requires a deep understanding of the project's specific requirements and constraints, as well as technical expertise. I suggest seeking the help of a professional architect or designer for this task. They can provide custom solutions that meet your specific needs and constraints while ensuring that the design is both practical and aesthetically pleasing.\",\n",
              " '63': \"As an AI language model, I am not capable of performing custom architectural design. However, I can suggest some general steps that can be followed to perform custom architectural design:\\n\\n1. Identify the requirements: Understand the business goals, user needs, and technical requirements of the software system to be designed.\\n\\n2. Choose an architectural style: Select an architectural style that fits the requirements of the system such as client-server, microservices, or event-driven architecture.\\n\\n3. Define the components: Identify the different components of the system such as the user interface, database, and middleware.\\n\\n4. Define the interactions: Define how the components interact with each other and how they exchange data.\\n\\n5. Allocate functionality: Allocate the system's functionality to the different components based on their responsibilities and capabilities.\\n\\n6. Evaluate and refine: Evaluate the design against the requirements and refine it if necessary.\\n\\n7. Document the design: Document the design using appropriate diagrams and documentation tools.\\n\\n8. Implement and test: Implement the design and test it thoroughly to ensure that it meets the requirements.\\n\\n9. Maintain and evolve: Maintain the system and evolve the design as the requirements change over time.\",\n",
              " '64': 'The task at hand is to specify subsystem functions and interfaces and allocate requirements and architectural design objectives to subsystems and components. This involves determining the purpose and functionality of each subsystem and component within the larger system. Additionally, interfaces between subsystems and components need to be identified and defined to ensure proper communication and integration. Requirements and design objectives should also be assigned to each subsystem and component to ensure they are working towards the overall system goals. This process helps to ensure that the system is well-organized and that each component is fulfilling its intended role in achieving the overall objectives.',\n",
              " '65': \"This PowerPoint presentation outlines the process of specifying subsystem functions and interfaces for a system. This involves allocating requirements and design objectives to subsystems and components, specifying the functionality and interfaces of each subsystem and component, and determining the interaction behavior between the subsystems and components. By following this process, the system's design can be optimized for efficient and effective performance.\",\n",
              " '66': 'The given content outlines the importance of conducting an Architectural Design Review to ensure that the requirements and architectural design objectives are met. The review should also ensure that the software design principles, security requirements, constraints, and secure software design principles are satisfied by the architectural design.',\n",
              " '67': \"The guidelines for architectural design are:\\n\\n1. Identify the stakeholders and their requirements.\\n2. Define the system's functionality and quality attributes.\\n3. Choose an appropriate architectural pattern.\\n4. Create multiple architectural views to address different concerns.\\n5. Evaluate the architecture for completeness, consistency, and correctness.\\n6. Document the architecture and make it available to the team.\\n7. Maintain the architecture throughout the system's lifecycle.\",\n",
              " '68': 'The PowerPoint presentation discusses the application of Agile principles, specifically emphasizing the value of working software over comprehensive documentation. The presentation also highlights the 20/80 rule, which states that \"good enough\" is sufficient.'}"
            ]
          },
          "metadata": {},
          "execution_count": 7
        }
      ]
    },
    {
      "cell_type": "markdown",
      "source": [
        "##Keyword"
      ],
      "metadata": {
        "id": "nbi5cuzO4M0W"
      }
    },
    {
      "cell_type": "code",
      "source": [
        "#prompt demonstration\n",
        "keyword_system = \"I want you to act as a keyword detector. I will give you the contents of a PowerPoint presentation, and you will provide me with the relevant keywords along with their explanations.\"\n",
        "keyword_user = \"slide 16: Agility & Architecture Agile approach implements a few requirements in each sprint. However, we cannot do the same for the architecture of a complex system! We cannot start with the bare-minimum architecture & keep expanding.  Refactoring/ revamping the architecture may be as bad as restarting from scratch – can be expensive & time-consuming!  In other words, agile approach is primarily for development & beyond…\"\n",
        "keyword_assistant = \"slide: 16: 1. Agility: the ability of a team or organization to quickly adapt to changing circumstances, requirements, or priorities. It focuses on being flexible, responsive, and adaptive in the face of uncertainties, evolving customer needs, and market conditions. 2. Agile approach: a project management and product development methodology that emphasizes iterative and incremental progress, collaboration, and flexibility. In Agile, work is organized into small, manageable tasks called sprints, which are typically two to four weeks in duration. Teams prioritize and complete these tasks while regularly reassessing and adjusting their priorities based on feedback and changing requirements. 3. Bare-minimum architecture: the simplest possible structure or design for a system that can still meet its basic functional requirements. This approach is usually not recommended for complex systems, as it can lead to significant challenges when it comes to expanding or refining the architecture to accommodate new features or improvements. 4. Refactoring: the process of restructuring and improving existing code without changing its external behavior or functionality. This can involve cleaning up the code, optimizing performance, or simplifying the design to make it more maintainable and easier to understand. 5. Revamping: the process of making significant improvements or overhauling an existing system, product, or process. In the context of software architecture, this might involve rethinking the overall design, updating outdated components, or introducing new technologies to better align with current requirements and best practices. 6. Scratch: In the context of software development, \\\"starting from scratch\\\" refers to the act of creating a new system, application, or component entirely from the beginning, rather than building upon or modifying an existing one. This can be a time-consuming and costly process, but in some cases, it may be necessary if the existing system or architecture is deemed unsuitable or too difficult to refactor or revamp.\"\n",
        "prompt_keyword = make_prompt_format(keyword_system, keyword_user, keyword_assistant)\n",
        "\n",
        "#extract keyword for each slide with an explanation\n",
        "result_keyword = {}\n",
        "for i in range(len(each_slide)):\n",
        "  app_keyword = ChatApp(prompt_keyword)\n",
        "  message = each_slide[f'{i}']\n",
        "  res = app_keyword.chat(message)\n",
        "  time.sleep(3) #API call restriction, 20 calls per a minute\n",
        "  result_keyword[f'{i}'] = res\n",
        "\n",
        "result_keyword"
      ],
      "metadata": {
        "id": "vmq2ADfU5WCr",
        "colab": {
          "base_uri": "https://localhost:8080/",
          "height": 1000
        },
        "outputId": "95bde45c-cce2-4d21-dbf8-180a695980e1"
      },
      "execution_count": 8,
      "outputs": [
        {
          "output_type": "error",
          "ename": "RateLimitError",
          "evalue": "ignored",
          "traceback": [
            "\u001b[0;31m---------------------------------------------------------------------------\u001b[0m",
            "\u001b[0;31mRateLimitError\u001b[0m                            Traceback (most recent call last)",
            "\u001b[0;32m<ipython-input-8-706185a81fee>\u001b[0m in \u001b[0;36m<cell line: 9>\u001b[0;34m()\u001b[0m\n\u001b[1;32m     10\u001b[0m   \u001b[0mapp_keyword\u001b[0m \u001b[0;34m=\u001b[0m \u001b[0mChatApp\u001b[0m\u001b[0;34m(\u001b[0m\u001b[0mprompt_keyword\u001b[0m\u001b[0;34m)\u001b[0m\u001b[0;34m\u001b[0m\u001b[0;34m\u001b[0m\u001b[0m\n\u001b[1;32m     11\u001b[0m   \u001b[0mmessage\u001b[0m \u001b[0;34m=\u001b[0m \u001b[0meach_slide\u001b[0m\u001b[0;34m[\u001b[0m\u001b[0;34mf'{i}'\u001b[0m\u001b[0;34m]\u001b[0m\u001b[0;34m\u001b[0m\u001b[0;34m\u001b[0m\u001b[0m\n\u001b[0;32m---> 12\u001b[0;31m   \u001b[0mres\u001b[0m \u001b[0;34m=\u001b[0m \u001b[0mapp_keyword\u001b[0m\u001b[0;34m.\u001b[0m\u001b[0mchat\u001b[0m\u001b[0;34m(\u001b[0m\u001b[0mmessage\u001b[0m\u001b[0;34m)\u001b[0m\u001b[0;34m\u001b[0m\u001b[0;34m\u001b[0m\u001b[0m\n\u001b[0m\u001b[1;32m     13\u001b[0m   \u001b[0mtime\u001b[0m\u001b[0;34m.\u001b[0m\u001b[0msleep\u001b[0m\u001b[0;34m(\u001b[0m\u001b[0;36m3\u001b[0m\u001b[0;34m)\u001b[0m \u001b[0;31m#API call restriction, 20 calls per a minute\u001b[0m\u001b[0;34m\u001b[0m\u001b[0;34m\u001b[0m\u001b[0m\n\u001b[1;32m     14\u001b[0m   \u001b[0mresult_keyword\u001b[0m\u001b[0;34m[\u001b[0m\u001b[0;34mf'{i}'\u001b[0m\u001b[0;34m]\u001b[0m \u001b[0;34m=\u001b[0m \u001b[0mres\u001b[0m\u001b[0;34m\u001b[0m\u001b[0;34m\u001b[0m\u001b[0m\n",
            "\u001b[0;32m<ipython-input-3-eab6e4a987b2>\u001b[0m in \u001b[0;36mchat\u001b[0;34m(self, message)\u001b[0m\n\u001b[1;32m      7\u001b[0m     \u001b[0;32mdef\u001b[0m \u001b[0mchat\u001b[0m\u001b[0;34m(\u001b[0m\u001b[0mself\u001b[0m\u001b[0;34m,\u001b[0m \u001b[0mmessage\u001b[0m\u001b[0;34m)\u001b[0m\u001b[0;34m:\u001b[0m\u001b[0;34m\u001b[0m\u001b[0;34m\u001b[0m\u001b[0m\n\u001b[1;32m      8\u001b[0m         \u001b[0mself\u001b[0m\u001b[0;34m.\u001b[0m\u001b[0mmessages\u001b[0m\u001b[0;34m.\u001b[0m\u001b[0mappend\u001b[0m\u001b[0;34m(\u001b[0m\u001b[0;34m{\u001b[0m\u001b[0;34m\"role\"\u001b[0m\u001b[0;34m:\u001b[0m \u001b[0;34m\"user\"\u001b[0m\u001b[0;34m,\u001b[0m \u001b[0;34m\"content\"\u001b[0m\u001b[0;34m:\u001b[0m \u001b[0mmessage\u001b[0m\u001b[0;34m}\u001b[0m\u001b[0;34m)\u001b[0m\u001b[0;34m\u001b[0m\u001b[0;34m\u001b[0m\u001b[0m\n\u001b[0;32m----> 9\u001b[0;31m         response = openai.ChatCompletion.create(\n\u001b[0m\u001b[1;32m     10\u001b[0m             \u001b[0mmodel\u001b[0m\u001b[0;34m=\u001b[0m\u001b[0;34m\"gpt-3.5-turbo\"\u001b[0m\u001b[0;34m,\u001b[0m\u001b[0;34m\u001b[0m\u001b[0;34m\u001b[0m\u001b[0m\n\u001b[1;32m     11\u001b[0m             \u001b[0mmessages\u001b[0m\u001b[0;34m=\u001b[0m\u001b[0mself\u001b[0m\u001b[0;34m.\u001b[0m\u001b[0mmessages\u001b[0m\u001b[0;34m,\u001b[0m\u001b[0;34m\u001b[0m\u001b[0;34m\u001b[0m\u001b[0m\n",
            "\u001b[0;32m/usr/local/lib/python3.9/dist-packages/openai/api_resources/chat_completion.py\u001b[0m in \u001b[0;36mcreate\u001b[0;34m(cls, *args, **kwargs)\u001b[0m\n\u001b[1;32m     23\u001b[0m         \u001b[0;32mwhile\u001b[0m \u001b[0;32mTrue\u001b[0m\u001b[0;34m:\u001b[0m\u001b[0;34m\u001b[0m\u001b[0;34m\u001b[0m\u001b[0m\n\u001b[1;32m     24\u001b[0m             \u001b[0;32mtry\u001b[0m\u001b[0;34m:\u001b[0m\u001b[0;34m\u001b[0m\u001b[0;34m\u001b[0m\u001b[0m\n\u001b[0;32m---> 25\u001b[0;31m                 \u001b[0;32mreturn\u001b[0m \u001b[0msuper\u001b[0m\u001b[0;34m(\u001b[0m\u001b[0;34m)\u001b[0m\u001b[0;34m.\u001b[0m\u001b[0mcreate\u001b[0m\u001b[0;34m(\u001b[0m\u001b[0;34m*\u001b[0m\u001b[0margs\u001b[0m\u001b[0;34m,\u001b[0m \u001b[0;34m**\u001b[0m\u001b[0mkwargs\u001b[0m\u001b[0;34m)\u001b[0m\u001b[0;34m\u001b[0m\u001b[0;34m\u001b[0m\u001b[0m\n\u001b[0m\u001b[1;32m     26\u001b[0m             \u001b[0;32mexcept\u001b[0m \u001b[0mTryAgain\u001b[0m \u001b[0;32mas\u001b[0m \u001b[0me\u001b[0m\u001b[0;34m:\u001b[0m\u001b[0;34m\u001b[0m\u001b[0;34m\u001b[0m\u001b[0m\n\u001b[1;32m     27\u001b[0m                 \u001b[0;32mif\u001b[0m \u001b[0mtimeout\u001b[0m \u001b[0;32mis\u001b[0m \u001b[0;32mnot\u001b[0m \u001b[0;32mNone\u001b[0m \u001b[0;32mand\u001b[0m \u001b[0mtime\u001b[0m\u001b[0;34m.\u001b[0m\u001b[0mtime\u001b[0m\u001b[0;34m(\u001b[0m\u001b[0;34m)\u001b[0m \u001b[0;34m>\u001b[0m \u001b[0mstart\u001b[0m \u001b[0;34m+\u001b[0m \u001b[0mtimeout\u001b[0m\u001b[0;34m:\u001b[0m\u001b[0;34m\u001b[0m\u001b[0;34m\u001b[0m\u001b[0m\n",
            "\u001b[0;32m/usr/local/lib/python3.9/dist-packages/openai/api_resources/abstract/engine_api_resource.py\u001b[0m in \u001b[0;36mcreate\u001b[0;34m(cls, api_key, api_base, api_type, request_id, api_version, organization, **params)\u001b[0m\n\u001b[1;32m    151\u001b[0m         )\n\u001b[1;32m    152\u001b[0m \u001b[0;34m\u001b[0m\u001b[0m\n\u001b[0;32m--> 153\u001b[0;31m         response, _, api_key = requestor.request(\n\u001b[0m\u001b[1;32m    154\u001b[0m             \u001b[0;34m\"post\"\u001b[0m\u001b[0;34m,\u001b[0m\u001b[0;34m\u001b[0m\u001b[0;34m\u001b[0m\u001b[0m\n\u001b[1;32m    155\u001b[0m             \u001b[0murl\u001b[0m\u001b[0;34m,\u001b[0m\u001b[0;34m\u001b[0m\u001b[0;34m\u001b[0m\u001b[0m\n",
            "\u001b[0;32m/usr/local/lib/python3.9/dist-packages/openai/api_requestor.py\u001b[0m in \u001b[0;36mrequest\u001b[0;34m(self, method, url, params, headers, files, stream, request_id, request_timeout)\u001b[0m\n\u001b[1;32m    224\u001b[0m             \u001b[0mrequest_timeout\u001b[0m\u001b[0;34m=\u001b[0m\u001b[0mrequest_timeout\u001b[0m\u001b[0;34m,\u001b[0m\u001b[0;34m\u001b[0m\u001b[0;34m\u001b[0m\u001b[0m\n\u001b[1;32m    225\u001b[0m         )\n\u001b[0;32m--> 226\u001b[0;31m         \u001b[0mresp\u001b[0m\u001b[0;34m,\u001b[0m \u001b[0mgot_stream\u001b[0m \u001b[0;34m=\u001b[0m \u001b[0mself\u001b[0m\u001b[0;34m.\u001b[0m\u001b[0m_interpret_response\u001b[0m\u001b[0;34m(\u001b[0m\u001b[0mresult\u001b[0m\u001b[0;34m,\u001b[0m \u001b[0mstream\u001b[0m\u001b[0;34m)\u001b[0m\u001b[0;34m\u001b[0m\u001b[0;34m\u001b[0m\u001b[0m\n\u001b[0m\u001b[1;32m    227\u001b[0m         \u001b[0;32mreturn\u001b[0m \u001b[0mresp\u001b[0m\u001b[0;34m,\u001b[0m \u001b[0mgot_stream\u001b[0m\u001b[0;34m,\u001b[0m \u001b[0mself\u001b[0m\u001b[0;34m.\u001b[0m\u001b[0mapi_key\u001b[0m\u001b[0;34m\u001b[0m\u001b[0;34m\u001b[0m\u001b[0m\n\u001b[1;32m    228\u001b[0m \u001b[0;34m\u001b[0m\u001b[0m\n",
            "\u001b[0;32m/usr/local/lib/python3.9/dist-packages/openai/api_requestor.py\u001b[0m in \u001b[0;36m_interpret_response\u001b[0;34m(self, result, stream)\u001b[0m\n\u001b[1;32m    618\u001b[0m         \u001b[0;32melse\u001b[0m\u001b[0;34m:\u001b[0m\u001b[0;34m\u001b[0m\u001b[0;34m\u001b[0m\u001b[0m\n\u001b[1;32m    619\u001b[0m             return (\n\u001b[0;32m--> 620\u001b[0;31m                 self._interpret_response_line(\n\u001b[0m\u001b[1;32m    621\u001b[0m                     \u001b[0mresult\u001b[0m\u001b[0;34m.\u001b[0m\u001b[0mcontent\u001b[0m\u001b[0;34m.\u001b[0m\u001b[0mdecode\u001b[0m\u001b[0;34m(\u001b[0m\u001b[0;34m\"utf-8\"\u001b[0m\u001b[0;34m)\u001b[0m\u001b[0;34m,\u001b[0m\u001b[0;34m\u001b[0m\u001b[0;34m\u001b[0m\u001b[0m\n\u001b[1;32m    622\u001b[0m                     \u001b[0mresult\u001b[0m\u001b[0;34m.\u001b[0m\u001b[0mstatus_code\u001b[0m\u001b[0;34m,\u001b[0m\u001b[0;34m\u001b[0m\u001b[0;34m\u001b[0m\u001b[0m\n",
            "\u001b[0;32m/usr/local/lib/python3.9/dist-packages/openai/api_requestor.py\u001b[0m in \u001b[0;36m_interpret_response_line\u001b[0;34m(self, rbody, rcode, rheaders, stream)\u001b[0m\n\u001b[1;32m    681\u001b[0m         \u001b[0mstream_error\u001b[0m \u001b[0;34m=\u001b[0m \u001b[0mstream\u001b[0m \u001b[0;32mand\u001b[0m \u001b[0;34m\"error\"\u001b[0m \u001b[0;32min\u001b[0m \u001b[0mresp\u001b[0m\u001b[0;34m.\u001b[0m\u001b[0mdata\u001b[0m\u001b[0;34m\u001b[0m\u001b[0;34m\u001b[0m\u001b[0m\n\u001b[1;32m    682\u001b[0m         \u001b[0;32mif\u001b[0m \u001b[0mstream_error\u001b[0m \u001b[0;32mor\u001b[0m \u001b[0;32mnot\u001b[0m \u001b[0;36m200\u001b[0m \u001b[0;34m<=\u001b[0m \u001b[0mrcode\u001b[0m \u001b[0;34m<\u001b[0m \u001b[0;36m300\u001b[0m\u001b[0;34m:\u001b[0m\u001b[0;34m\u001b[0m\u001b[0;34m\u001b[0m\u001b[0m\n\u001b[0;32m--> 683\u001b[0;31m             raise self.handle_error_response(\n\u001b[0m\u001b[1;32m    684\u001b[0m                 \u001b[0mrbody\u001b[0m\u001b[0;34m,\u001b[0m \u001b[0mrcode\u001b[0m\u001b[0;34m,\u001b[0m \u001b[0mresp\u001b[0m\u001b[0;34m.\u001b[0m\u001b[0mdata\u001b[0m\u001b[0;34m,\u001b[0m \u001b[0mrheaders\u001b[0m\u001b[0;34m,\u001b[0m \u001b[0mstream_error\u001b[0m\u001b[0;34m=\u001b[0m\u001b[0mstream_error\u001b[0m\u001b[0;34m\u001b[0m\u001b[0;34m\u001b[0m\u001b[0m\n\u001b[1;32m    685\u001b[0m             )\n",
            "\u001b[0;31mRateLimitError\u001b[0m: That model is currently overloaded with other requests. You can retry your request, or contact us through our help center at help.openai.com if the error persists. (Please include the request ID a110ea247a0cf600bd53fd20f369bd0e in your message.)"
          ]
        }
      ]
    }
  ]
}