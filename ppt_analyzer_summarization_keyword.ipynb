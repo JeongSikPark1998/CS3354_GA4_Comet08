{
  "nbformat": 4,
  "nbformat_minor": 0,
  "metadata": {
    "colab": {
      "provenance": []
    },
    "kernelspec": {
      "name": "python3",
      "display_name": "Python 3"
    },
    "language_info": {
      "name": "python"
    }
  },
  "cells": [
    {
      "cell_type": "markdown",
      "source": [
        "#Install"
      ],
      "metadata": {
        "id": "CDsjFy833IN-"
      }
    },
    {
      "cell_type": "code",
      "execution_count": null,
      "metadata": {
        "id": "G9KRTi872-mY",
        "colab": {
          "base_uri": "https://localhost:8080/"
        },
        "outputId": "cb996487-bfe1-405a-acde-1197f66b4b0a"
      },
      "outputs": [
        {
          "output_type": "stream",
          "name": "stdout",
          "text": [
            "Looking in indexes: https://pypi.org/simple, https://us-python.pkg.dev/colab-wheels/public/simple/\n",
            "Collecting python-pptx\n",
            "  Downloading python-pptx-0.6.21.tar.gz (10.1 MB)\n",
            "\u001b[2K     \u001b[90m━━━━━━━━━━━━━━━━━━━━━━━━━━━━━━━━━━━━━━━━\u001b[0m \u001b[32m10.1/10.1 MB\u001b[0m \u001b[31m38.7 MB/s\u001b[0m eta \u001b[36m0:00:00\u001b[0m\n",
            "\u001b[?25h  Preparing metadata (setup.py) ... \u001b[?25l\u001b[?25hdone\n",
            "Requirement already satisfied: lxml>=3.1.0 in /usr/local/lib/python3.9/dist-packages (from python-pptx) (4.9.2)\n",
            "Requirement already satisfied: Pillow>=3.3.2 in /usr/local/lib/python3.9/dist-packages (from python-pptx) (8.4.0)\n",
            "Collecting XlsxWriter>=0.5.7\n",
            "  Downloading XlsxWriter-3.1.0-py3-none-any.whl (152 kB)\n",
            "\u001b[2K     \u001b[90m━━━━━━━━━━━━━━━━━━━━━━━━━━━━━━━━━━━━━━━\u001b[0m \u001b[32m152.7/152.7 kB\u001b[0m \u001b[31m7.9 MB/s\u001b[0m eta \u001b[36m0:00:00\u001b[0m\n",
            "\u001b[?25hBuilding wheels for collected packages: python-pptx\n",
            "  Building wheel for python-pptx (setup.py) ... \u001b[?25l\u001b[?25hdone\n",
            "  Created wheel for python-pptx: filename=python_pptx-0.6.21-py3-none-any.whl size=470949 sha256=27ea170f3ba7f2f5b4f590b56d2f5839e1d94150f6b854082168d4f56b2251aa\n",
            "  Stored in directory: /root/.cache/pip/wheels/0e/4a/ed/9653bc799915f52dce3f04d14946fbd85cce9c3cdedc9cfa71\n",
            "Successfully built python-pptx\n",
            "Installing collected packages: XlsxWriter, python-pptx\n",
            "Successfully installed XlsxWriter-3.1.0 python-pptx-0.6.21\n",
            "Looking in indexes: https://pypi.org/simple, https://us-python.pkg.dev/colab-wheels/public/simple/\n",
            "Collecting openai\n",
            "  Downloading openai-0.27.4-py3-none-any.whl (70 kB)\n",
            "\u001b[2K     \u001b[90m━━━━━━━━━━━━━━━━━━━━━━━━━━━━━━━━━━━━━━━━\u001b[0m \u001b[32m70.3/70.3 kB\u001b[0m \u001b[31m2.4 MB/s\u001b[0m eta \u001b[36m0:00:00\u001b[0m\n",
            "\u001b[?25hRequirement already satisfied: tqdm in /usr/local/lib/python3.9/dist-packages (from openai) (4.65.0)\n",
            "Requirement already satisfied: requests>=2.20 in /usr/local/lib/python3.9/dist-packages (from openai) (2.27.1)\n",
            "Collecting aiohttp\n",
            "  Downloading aiohttp-3.8.4-cp39-cp39-manylinux_2_17_x86_64.manylinux2014_x86_64.whl (1.0 MB)\n",
            "\u001b[2K     \u001b[90m━━━━━━━━━━━━━━━━━━━━━━━━━━━━━━━━━━━━━━━━\u001b[0m \u001b[32m1.0/1.0 MB\u001b[0m \u001b[31m19.2 MB/s\u001b[0m eta \u001b[36m0:00:00\u001b[0m\n",
            "\u001b[?25hRequirement already satisfied: idna<4,>=2.5 in /usr/local/lib/python3.9/dist-packages (from requests>=2.20->openai) (3.4)\n",
            "Requirement already satisfied: charset-normalizer~=2.0.0 in /usr/local/lib/python3.9/dist-packages (from requests>=2.20->openai) (2.0.12)\n",
            "Requirement already satisfied: certifi>=2017.4.17 in /usr/local/lib/python3.9/dist-packages (from requests>=2.20->openai) (2022.12.7)\n",
            "Requirement already satisfied: urllib3<1.27,>=1.21.1 in /usr/local/lib/python3.9/dist-packages (from requests>=2.20->openai) (1.26.15)\n",
            "Requirement already satisfied: attrs>=17.3.0 in /usr/local/lib/python3.9/dist-packages (from aiohttp->openai) (22.2.0)\n",
            "Collecting async-timeout<5.0,>=4.0.0a3\n",
            "  Downloading async_timeout-4.0.2-py3-none-any.whl (5.8 kB)\n",
            "Collecting multidict<7.0,>=4.5\n",
            "  Downloading multidict-6.0.4-cp39-cp39-manylinux_2_17_x86_64.manylinux2014_x86_64.whl (114 kB)\n",
            "\u001b[2K     \u001b[90m━━━━━━━━━━━━━━━━━━━━━━━━━━━━━━━━━━━━━━━\u001b[0m \u001b[32m114.2/114.2 kB\u001b[0m \u001b[31m3.9 MB/s\u001b[0m eta \u001b[36m0:00:00\u001b[0m\n",
            "\u001b[?25hCollecting frozenlist>=1.1.1\n",
            "  Downloading frozenlist-1.3.3-cp39-cp39-manylinux_2_5_x86_64.manylinux1_x86_64.manylinux_2_17_x86_64.manylinux2014_x86_64.whl (158 kB)\n",
            "\u001b[2K     \u001b[90m━━━━━━━━━━━━━━━━━━━━━━━━━━━━━━━━━━━━━━━\u001b[0m \u001b[32m158.8/158.8 kB\u001b[0m \u001b[31m9.8 MB/s\u001b[0m eta \u001b[36m0:00:00\u001b[0m\n",
            "\u001b[?25hCollecting yarl<2.0,>=1.0\n",
            "  Downloading yarl-1.8.2-cp39-cp39-manylinux_2_17_x86_64.manylinux2014_x86_64.whl (264 kB)\n",
            "\u001b[2K     \u001b[90m━━━━━━━━━━━━━━━━━━━━━━━━━━━━━━━━━━━━━━\u001b[0m \u001b[32m264.6/264.6 kB\u001b[0m \u001b[31m12.5 MB/s\u001b[0m eta \u001b[36m0:00:00\u001b[0m\n",
            "\u001b[?25hCollecting aiosignal>=1.1.2\n",
            "  Downloading aiosignal-1.3.1-py3-none-any.whl (7.6 kB)\n",
            "Installing collected packages: multidict, frozenlist, async-timeout, yarl, aiosignal, aiohttp, openai\n",
            "Successfully installed aiohttp-3.8.4 aiosignal-1.3.1 async-timeout-4.0.2 frozenlist-1.3.3 multidict-6.0.4 openai-0.27.4 yarl-1.8.2\n",
            "Looking in indexes: https://pypi.org/simple, https://us-python.pkg.dev/colab-wheels/public/simple/\n",
            "Requirement already satisfied: openai in /usr/local/lib/python3.9/dist-packages (0.27.4)\n",
            "Requirement already satisfied: requests>=2.20 in /usr/local/lib/python3.9/dist-packages (from openai) (2.27.1)\n",
            "Requirement already satisfied: aiohttp in /usr/local/lib/python3.9/dist-packages (from openai) (3.8.4)\n",
            "Requirement already satisfied: tqdm in /usr/local/lib/python3.9/dist-packages (from openai) (4.65.0)\n",
            "Requirement already satisfied: certifi>=2017.4.17 in /usr/local/lib/python3.9/dist-packages (from requests>=2.20->openai) (2022.12.7)\n",
            "Requirement already satisfied: idna<4,>=2.5 in /usr/local/lib/python3.9/dist-packages (from requests>=2.20->openai) (3.4)\n",
            "Requirement already satisfied: urllib3<1.27,>=1.21.1 in /usr/local/lib/python3.9/dist-packages (from requests>=2.20->openai) (1.26.15)\n",
            "Requirement already satisfied: charset-normalizer~=2.0.0 in /usr/local/lib/python3.9/dist-packages (from requests>=2.20->openai) (2.0.12)\n",
            "Requirement already satisfied: frozenlist>=1.1.1 in /usr/local/lib/python3.9/dist-packages (from aiohttp->openai) (1.3.3)\n",
            "Requirement already satisfied: async-timeout<5.0,>=4.0.0a3 in /usr/local/lib/python3.9/dist-packages (from aiohttp->openai) (4.0.2)\n",
            "Requirement already satisfied: multidict<7.0,>=4.5 in /usr/local/lib/python3.9/dist-packages (from aiohttp->openai) (6.0.4)\n",
            "Requirement already satisfied: yarl<2.0,>=1.0 in /usr/local/lib/python3.9/dist-packages (from aiohttp->openai) (1.8.2)\n",
            "Requirement already satisfied: attrs>=17.3.0 in /usr/local/lib/python3.9/dist-packages (from aiohttp->openai) (22.2.0)\n",
            "Requirement already satisfied: aiosignal>=1.1.2 in /usr/local/lib/python3.9/dist-packages (from aiohttp->openai) (1.3.1)\n"
          ]
        }
      ],
      "source": [
        "!pip install python-pptx\n",
        "\n",
        "from google.colab import drive\n",
        "import os\n",
        "import pptx\n",
        "from pptx.enum.shapes import MSO_SHAPE_TYPE\n",
        "\n",
        "!pip install openai\n",
        "import openai\n",
        "import os\n",
        "import time\n",
        "import pandas as pd\n",
        "!pip install --upgrade openai"
      ]
    },
    {
      "cell_type": "code",
      "source": [
        "#your API key\n",
        "os.environ[\"OPENAI_API_KEY\"] = '[YOUR_API_KEY]'\n",
        "\n",
        "#load ppt from the google drive\n",
        "drive.mount('/content/gdrive')\n",
        "os.chdir(\"/content/gdrive/My Drive/analyzer/input_ppt\")"
      ],
      "metadata": {
        "id": "2jZONazU3Og2",
        "colab": {
          "base_uri": "https://localhost:8080/"
        },
        "outputId": "687f09fe-26a1-4d8f-dfd1-dcd6b6a4fc82"
      },
      "execution_count": null,
      "outputs": [
        {
          "output_type": "stream",
          "name": "stdout",
          "text": [
            "Mounted at /content/gdrive\n"
          ]
        }
      ]
    },
    {
      "cell_type": "markdown",
      "source": [
        "# Functions"
      ],
      "metadata": {
        "id": "fF4p7npO3oAx"
      }
    },
    {
      "cell_type": "code",
      "source": [
        "class ChatApp: #no demo, only template\n",
        "    def __init__(self, input):\n",
        "        # Setting the API key to use the OpenAI API\n",
        "        openai.api_key = os.getenv(\"OPENAI_API_KEY\")\n",
        "        self.messages = input\n",
        "\n",
        "    def chat(self, message):\n",
        "        self.messages.append({\"role\": \"user\", \"content\": message})\n",
        "        response = openai.ChatCompletion.create(\n",
        "            model=\"gpt-3.5-turbo\",\n",
        "            messages=self.messages,\n",
        "            temperature=0.7,\n",
        "            top_p = 1,\n",
        "        )\n",
        "        self.messages.append({\"role\": \"assistant\", \"content\": response[\"choices\"][0][\"message\"].content})\n",
        "\n",
        "        for i in range(2):\n",
        "          self.messages.pop()\n",
        "\n",
        "        return response[\"choices\"][0][\"message\"][\"content\"]"
      ],
      "metadata": {
        "id": "I4xy491y3vKm"
      },
      "execution_count": 26,
      "outputs": []
    },
    {
      "cell_type": "code",
      "source": [
        "def make_prompt_format(system, user, assistant): #prompt demonstration\n",
        "  #system\n",
        "  input = [{\"role\": \"system\", \"content\": system}]\n",
        "  if user != \"\":\n",
        "    #user\n",
        "    demo_user = []\n",
        "    demo_user.append(user)\n",
        "    #assistant\n",
        "    demo_assistant = []\n",
        "    demo_assistant.append(assistant)\n",
        "\n",
        "    #make format for API\n",
        "    demo = pd.DataFrame({'user': demo_user, 'assistant': demo_assistant})\n",
        "    for prompt, completion in zip(demo['user'], demo['assistant']):\n",
        "      message_dict = {\"role\": \"user\", \"content\": prompt}\n",
        "      input.append(message_dict)\n",
        "      message_dict = {\"role\": \"assistant\", \"content\": completion}\n",
        "      input.append(message_dict)\n",
        "    \n",
        "  return input"
      ],
      "metadata": {
        "id": "c0_y_y_e9ZBu"
      },
      "execution_count": 27,
      "outputs": []
    },
    {
      "cell_type": "markdown",
      "source": [
        "#Main"
      ],
      "metadata": {
        "id": "xRDqP8AX-_7-"
      }
    },
    {
      "cell_type": "markdown",
      "source": [
        "##Load Data"
      ],
      "metadata": {
        "id": "hiI_mhK24TVe"
      }
    },
    {
      "cell_type": "code",
      "source": [
        "#load ppt file\n",
        "ppt = pptx.Presentation('Architecture_Design.pptx')\n",
        "\n",
        "#full slide\n",
        "full_slide = []\n",
        "content_full = \"Entire contents: \"\n",
        "for i, slide in enumerate(ppt.slides):\n",
        "  content_full = content_full + f\"  *slide {i}: \"\n",
        "  for shape in slide.shapes:\n",
        "    if hasattr(shape, \"text\"):\n",
        "      content_full = content_full + shape.text\n",
        "full_slide = content_full\n",
        "\n",
        "# print(\"*\"*10)\n",
        "# print(full_slide)\n",
        "\n",
        "#each slide, keywords\n",
        "each_slide = {} #dictionary form\n",
        "for i, slide in enumerate(ppt.slides):\n",
        "  content_each = \"\"\n",
        "  for shape in slide.shapes:\n",
        "    if hasattr(shape, \"text\"):\n",
        "      content_each = content_each + shape.text\n",
        "  each_slide[f'{i}'] = content_each \n",
        "\n",
        "# print(\"*\"*10)\n",
        "# print(each_slide)"
      ],
      "metadata": {
        "id": "kVsKSlFW4VlJ",
        "colab": {
          "base_uri": "https://localhost:8080/"
        },
        "outputId": "a72220fa-1bdb-4aba-b5db-e346bd404227"
      },
      "execution_count": 28,
      "outputs": [
        {
          "output_type": "stream",
          "name": "stdout",
          "text": [
            "**********\n",
            "Entire contents:   *slide 0: \u000bArchitectural Design  *slide 1: Architectural Design …Architectural design identifies the main structural components in a system and the relationships between them. \n",
            "The output of this phase is an architectural model that describes how the system is organized as a set of communicating components. \n",
            "\n",
            "The architecture of a software system has significant impact on system performance, efficiency, security, and maintainability.\n",
            "Architectural design flaws may result in project failure! \n",
            "  *slide 2: Design flaws – a few examplesWhat if the system does not handle multiple customers purchasing items simultaneously ?\n",
            "\n",
            "What if web server does too much processing for each transaction? \n",
            "\n",
            "What if the security requirements are ignored ? \n",
            "\n",
            "What if the team misses to identify several generic components for which COTS are available ?\n",
            "\n",
            "  *slide 3: Design flaws – a few examplesWhat if the system does not handle multiple customers purchasing items simultaneously ?\n",
            "\tthe shopping cart becomes common for both customers! \n",
            "\n",
            "What if web server does too much processing for each transaction? \n",
            "\tcapacity of the web server comes down drastically & the web server crashes when too many requests come within a small-time window!\n",
            "\n",
            "What if the security requirements are ignored ? \n",
            "\thacker can manipulate the prices of items in the shopping cart \n",
            "\n",
            "What if the team misses to identify several generic components for which COTS are available ?\n",
            "\tthe team develops everything in-house…\n",
            "\n",
            "\n",
            "  *slide 4: Architectural Design Process  *slide 5: Architectural Design ObjectivesMaintainability \n",
            "How easy it is to maintain a system ?\n",
            "Solution:\n",
            "fine-grain, self-contained components that may readily be changed. \n",
            "Producers of data should be separated from consumers, and shared data structures should be avoided.\n",
            "  *slide 6: Architectural Design Objectives2. Use of Commercial off-the-shelf (COTS) parts\n",
            " Does the project require or prohibit use of COTS, and what is the extent of such reuse?\n",
            "\n",
            "3. System performance: \n",
            "handle real-time data OR \n",
            "huge # of transactions?\n",
            "Solution:\n",
            "Localize critical operations and minimize communications\n",
            "  *slide 7: Architectural Design Objectives4. Security \n",
            "What is the extent of protection to data and program resources required by the application?\n",
            "Solution:\n",
            "Use a layered architecture with critical assets in the inner layers\n",
            "5. Safety\n",
            " Solution: \n",
            "safety-related operations are co-located in a single component or in a small number of components. \n",
            "  *slide 8: Architectural Design Objectives6. Availability\n",
            "When problem occurs, to what extent does the sys need to work ? \n",
            "Solution: \n",
            "designed to include redundant components so that it is possible to replace and update components without stopping the system\n",
            "7. Reliability\n",
            "Under assumed conditions, to what extent should system work correctly?\n",
            " Solution:\n",
            "Design components with high cohesion & loose coupling\n",
            "  *slide 9: Architectural Design Objectives8. Fault tolerance\n",
            "To what extent does the application require the system to continue operation when a software problem occurs?\n",
            "\n",
            "9. Recovery\n",
            "Return to previous state after a system crash \n",
            "  *slide 10: Architectural Design ObjectivesMaintainability \n",
            "Use of Commercial off-the-shelf (COTS) parts\n",
            "System performance\n",
            "Security \n",
            "Safety\n",
            "Availability \n",
            " Reliability\n",
            "Software fault tolerance\n",
            "Recovery\n",
            "  *slide 11: Architectural design decisionsChapter 6 Architectural Design1223/02/2023  *slide 12: Architectural viewsChapter 6 Architectural Design1323/02/2023  *slide 13: 4 + 1 view model of software architectureChapter 6 Architectural Design14shows the key abstractions in the system as objects or object classesShows how, at run-time, the system is composed of interacting processesshows how the software is decomposed for development.shows the system hardware and how software components are distributed across the processors in the system4 + 1 view model of software architecture  *slide 14: Context / Conceptual viewChapter 6 Architectural Design15The architecture of a packing robot control system   *slide 15: Agility & ArchitectureAgile approach implements a few requirements in each sprint. \n",
            "However, we cannot do the same for the architecture of a complex system! We cannot start with the bare-minimum architecture & keep expanding. \n",
            "Refactoring/ revamping the architecture may be as bad as restarting from scratch – can be expensive & time-consuming! \n",
            "In other words, agile approach is primarily for development & beyond…\n",
            "  *slide 16: Software Design FundamentalsSoftware design is a two-step process:\n",
            "Architectural design \n",
            "aka high-level design and top-level design\n",
            "describes how software is organized into components.\n",
            "\n",
            "Detailed design \n",
            "aka low-level design. \n",
            "describes the desired behavior of these components\t\n",
            "\n",
            "The output is a set of models and artifacts that record the major decisions that have been taken.\n",
            "\n",
            "  *slide 17: Four types of systems/subsystems  *slide 18: Interactive Systems  *slide 19: Characteristics of Interactive SystemsThe interaction consists of a relatively fixed sequence of actor requests and system responses.\n",
            "The system must process and respond to each request.\n",
            "Often, the system interacts with only one actor during the process of a use case.\n",
            "The actor is often a human being although it can also be a device or another subsystem.\n",
            "The interaction begins and ends with the actor.\n",
            "The actor and the system exhibit a “client-server” relationship. \n",
            "System state reflects the progress of the business process represented by the use case.\n",
            "  *slide 20: Interactive SystemsInvolves almost-fixed sequence of requests & responses between the actor and the system.\n",
            "While each use-case involve only one actor, systems typically handle a lot of instances in parallel.\n",
            "Examples ???? \n",
            "\n",
            "  *slide 21: Interative SystemsInvolves almost-fixed sequence of requests & responses between the actor and the system.\n",
            "While each use-case involve only one actor, systems typically handle a lot of instances in parallel.\n",
            "Examples: \n",
            "Typical Online Shopping site\n",
            "Airline Reservation\n",
            "Online Tax Preparation\n",
            "Online Test \n",
            "Telephone calls\n",
            "\n",
            "  *slide 22: Event-Driven Systems  *slide 23: Characteristics of Event-Driven SystemsIt receives events from and controls external entities.\n",
            "It does not have a fixed sequence of incoming requests; requests arrive at the system randomly.\n",
            "It does not need to respond to every incoming event. Its response is state dependent—the same event may result in different responses depending on system state. \n",
            "It interacts with more than one external entity at the same time.\n",
            "External entities are often hardware devices or software components rather than human beings.\n",
            "Its state may not reflect the progress of a computation. \n",
            "It may need to meet timing constraints, temporal constraints, and timed temporal constraints.\n",
            "  *slide 24: Event driven systemsSystem receives events from the external entities (typically not humans) and responds as needed. \n",
            "Most embedded systems are event driven.\n",
            "\n",
            "Examples ??? \n",
            "\n",
            "  *slide 25: Event driven systemsSystem receives events from the external entities (typically not humans) and responds as needed. \n",
            "Most embedded systems are event driven.\n",
            "Examples:\n",
            "Periodic reporting from the measurement devices in a jet\n",
            "Sensors in railway tracks\n",
            "Text messages from cellphones\n",
            "Location updates from cellphones to applications\n",
            "\n",
            "  *slide 26: Transformational Systems  *slide 27: Characteristics of Transformational Systemsconsist of a network of information-processing activities, transforming activity input to activity output.\n",
            "Activities may involve control flows that exhibit sequencing, conditional branching, parallel threads, synchronous and asynchronous behavior.\n",
            "During the transformation of the input into the output, there is little or no interaction between system and actor—it is a batch process.\n",
            "usually, stateless.\n",
            "may perform number crunching or computation intensive algorithms.\n",
            "The actors can be human beings, devices, or other systems.\n",
            "  *slide 28: Transformational SystemsA network of Information Processing activities\n",
            "Examples ????   *slide 29: Transformational SystemsA network of Information Processing activities\n",
            "Examples:\n",
            "Compiler : Source code  executable code \n",
            "Lexical analysis, Syntax analysis, Code Generation & Code Optimization  *slide 30: Transformational SystemsA network of Information Processing activities\n",
            "Examples:\n",
            "Compiler : Source code  executable code \n",
            "Lexical analysis, Syntax analysis, Code Generation & Code Optimization\n",
            "Workflow management in a company with multi-step approval process\n",
            "new hire OR high-end purchasing \n",
            "Database transformation & merge \n",
            "for company mergers OR information gathering for mega-database\n",
            "Medical data format change for Electronic Medical Records\n",
            "Drive data upload from Electric car @ Home  *slide 31: Characteristics of Database SystemsAka Object-Persistence Systems\n",
            "Provides object storage and retrieval capabilities to other subsystems.\n",
            "Hides the implementation from the rest of the system.\n",
            "Capable of efficient storage, retrieval, and updating of a huge amount of structured and complex data.\n",
            "Fits better as a subsystem in a larger system to provide database functionality.\n",
            "Examples:\n",
            "Any system that primarily offers lookup functionality, not much else!\n",
            "  *slide 32: Popular Software Architecture  Style #1Client-server architecture runs on \n",
            "a network in which many clients (remote processors) request and receive service from a centralized server (host computer). \n",
            "Client computers provide an interface to allow a user to request services of the server and to display the results the server returns.Any examples ???  *slide 33: Popular Software Architecture  Style #1Client-server architecture runs on \n",
            "a network in which many clients (remote processors) request and receive service from a centralized server (host computer). \n",
            "Client computers provide an interface to allow a user to request services of the server and to display the results the server returns.Any examples ???\n",
            "\n",
            "Most web-based applications, file servers, &\n",
            "file transfer protocol (ftp)   *slide 34: Client-server architecture – ABHS exampleFigure 6.5 Applying client-server architecture style clients can be added to or removed from the system freely without impacting the work of the server (except performance impact).\n",
            "the passenger check-in clients are lightweight clients ( as the server provides most of the needed services)  *slide 35: Client-server architectureDistributed system model \n",
            "shows how data and processing is distributed across a range of components.\n",
            "Can be implemented on a single computer.\n",
            "Set of stand-alone servers which provide specific services such as printing, data management, etc.\n",
            "Set of clients which call on these services.\n",
            "Network which allows clients to access servers.Chapter 6 Architectural Design3623/02/2023  *slide 36: The Client–server pattern Chapter 6 Architectural Design3723/02/2023  *slide 37: A client–server architecture for a film library Chapter 6 Architectural Design3823/02/2023  *slide 38: Popular Software Architecture  Style #2N-tier or multi-tier architecture extends the client-server architecture concept - the presentation, processing and data management functions are both logically and physically separated. \n",
            "  *slide 39: N-tier or multi-tier architecture …  *slide 40: OSI 7-layer architecture for Networking  *slide 41:   *slide 42: How the data travels?  *slide 43:   *slide 44: What did you learn about OSI 7 layers?  *slide 45: The Layered architecture pattern Chapter 6 Architectural Design4623/02/2023  *slide 46: A generic layered architecture Chapter 6 Architectural Design4723/02/2023The architecture of the iLearn system   *slide 47: Popular Software Architecture  Style #3Main program & subroutines architecture \n",
            "Organizes the components of the system into a tree structure.\n",
            "Computation begins with the root or main program and is carried out by the descendants recursively down the tree. \n",
            "Useful for designing transformational or workflow-oriented systems.\n",
            "Comes from Data flow diagram in SA/SD  *slide 48: Main program & subroutines architectureData flow model & it's mapping to architecture design  *slide 49: Popular Software Architecture Style #4Event-driven System architecture consists of a state-based controller and several components under its control.\n",
            "an event-driven system exhibits state-dependent behavior  *slide 50: Event-driven System architecture – Example  *slide 51: Popular Software Architecture  Style #5Persistence Framework architecture focuses on saving data (objects) to a database enabling retrieval later.  *slide 52: Several more architecture styles…  *slide 53: Several more architecture styles…  *slide 54: Several more architecture styles…  *slide 55: Several more architecture styles…  *slide 56: Several more architecture styles…  *slide 57: Several more architecture styles…  *slide 58: Analogy for Architectural Design Process: Selecting the dress for the occasionWhat type of event you are going to?\n",
            "Party, School, Office, Interview, Workout, Swimming, …\n",
            "\n",
            "What style of dress you want to wear?\n",
            "Informal, Formal, Fancy, Swimwear, ….  *slide 59: System type  Architectural Style  *slide 60: Mapping system types to architecture styles  *slide 61: Perform Custom Architectural Design  *slide 62: Perform Custom Architectural Design  *slide 63: Perform Custom Architectural Design  *slide 64: Specify Subsystem Functions and InterfacesAllocate requirements and architectural design objectives to subsystems and components.\n",
            "Specify the functionality of each subsystem and component.  *slide 65: Specify Subsystem Functions and InterfacesAllocate requirements and architectural design objectives to subsystems and components.\n",
            "Specify the functionality of each subsystem and component.\n",
            "Specify the interfaces of the subsystems and components.\n",
            "Specify the interaction behavior of the subsystems and components.  *slide 66: Review the Architectural DesignReview to ensure that the requirements and architectural design objectives are met.\n",
            "Review to ensure that the architectural design satisfies software design principles.\n",
            "Review to ensure that the architectural design satisfies\n",
            "security requirements\n",
            "constraints, and \n",
            "secure software design principles.\n",
            "  *slide 67: Guidelines for Architectural Design  *slide 68: Applying Agile PrinciplesValue working software over comprehensive documentation.\n",
            "Apply the 20/80 rule - that is, good enough is enough.\n",
            "\n",
            "**********\n",
            "{'0': '\\x0bArchitectural Design', '1': 'Architectural Design …Architectural design identifies the main structural components in a system and the relationships between them. \\nThe output of this phase is an architectural model that describes how the system is organized as a set of communicating components. \\n\\nThe architecture of a software system has significant impact on system performance, efficiency, security, and maintainability.\\nArchitectural design flaws may result in project failure! \\uf04c\\n', '2': 'Design flaws – a few examplesWhat if the system does not handle multiple customers purchasing items simultaneously ?\\n\\nWhat if web server does too much processing for each transaction? \\n\\nWhat if the security requirements are ignored ? \\n\\nWhat if the team misses to identify several generic components for which COTS are available ?\\n\\n', '3': 'Design flaws – a few examplesWhat if the system does not handle multiple customers purchasing items simultaneously ?\\n\\t\\uf0e0the shopping cart becomes common for both customers! \\uf04c\\n\\nWhat if web server does too much processing for each transaction? \\n\\t\\uf0e0capacity of the web server comes down drastically & the web server crashes when too many requests come within a small-time window!\\n\\nWhat if the security requirements are ignored ? \\n\\t\\uf0e0hacker can manipulate the prices of items in the shopping cart \\n\\nWhat if the team misses to identify several generic components for which COTS are available ?\\n\\t\\uf0e0the team develops everything in-house…\\n\\n\\n', '4': 'Architectural Design Process', '5': 'Architectural Design ObjectivesMaintainability \\nHow easy it is to maintain a system ?\\nSolution:\\nfine-grain, self-contained components that may readily be changed. \\nProducers of data should be separated from consumers, and shared data structures should be avoided.\\n', '6': 'Architectural Design Objectives2. Use of Commercial off-the-shelf (COTS) parts\\n Does the project require or prohibit use of COTS, and what is the extent of such reuse?\\n\\n3. System performance: \\nhandle real-time data OR \\nhuge # of transactions?\\nSolution:\\nLocalize critical operations and minimize communications\\n', '7': 'Architectural Design Objectives4. Security \\nWhat is the extent of protection to data and program resources required by the application?\\nSolution:\\nUse a layered architecture with critical assets in the inner layers\\n5. Safety\\n Solution: \\nsafety-related operations are co-located in a single component or in a small number of components. \\n', '8': 'Architectural Design Objectives6. Availability\\nWhen problem occurs, to what extent does the sys need to work ? \\nSolution: \\ndesigned to include redundant components so that it is possible to replace and update components without stopping the system\\n7. Reliability\\nUnder assumed conditions, to what extent should system work correctly?\\n Solution:\\nDesign components with high cohesion & loose coupling\\n', '9': 'Architectural Design Objectives8. Fault tolerance\\nTo what extent does the application require the system to continue operation when a software problem occurs?\\n\\n9. Recovery\\nReturn to previous state after a system crash \\n', '10': 'Architectural Design ObjectivesMaintainability \\nUse of Commercial off-the-shelf (COTS) parts\\nSystem performance\\nSecurity \\nSafety\\nAvailability \\n Reliability\\nSoftware fault tolerance\\nRecovery\\n', '11': 'Architectural design decisionsChapter 6 Architectural Design1223/02/2023', '12': 'Architectural viewsChapter 6 Architectural Design1323/02/2023', '13': '4 + 1 view model of software architectureChapter 6 Architectural Design14shows the key abstractions in the system as objects or object classesShows how, at run-time, the system is composed of interacting processesshows how the software is decomposed for development.shows the system hardware and how software components are distributed across the processors in the system4 + 1 view model of software architecture', '14': 'Context / Conceptual viewChapter 6 Architectural Design15The architecture of a packing robot control system ', '15': 'Agility & ArchitectureAgile approach implements a few requirements in each sprint. \\nHowever, we cannot do the same for the architecture of a complex system! We cannot start with the bare-minimum architecture & keep expanding. \\nRefactoring/ revamping the architecture may be as bad as restarting from scratch – can be expensive & time-consuming! \\uf04c\\nIn other words, agile approach is primarily for development & beyond…\\n', '16': 'Software Design FundamentalsSoftware design is a two-step process:\\nArchitectural design \\naka high-level design and top-level design\\ndescribes how software is organized into components.\\n\\nDetailed design \\naka low-level design. \\ndescribes the desired behavior of these components\\t\\n\\nThe output is a set of models and artifacts that record the major decisions that have been taken.\\n\\n', '17': 'Four types of systems/subsystems', '18': 'Interactive Systems', '19': 'Characteristics of Interactive SystemsThe interaction consists of a relatively fixed sequence of actor requests and system responses.\\nThe system must process and respond to each request.\\nOften, the system interacts with only one actor during the process of a use case.\\nThe actor is often a human being although it can also be a device or another subsystem.\\nThe interaction begins and ends with the actor.\\nThe actor and the system exhibit a “client-server” relationship.\\xa0\\nSystem state reflects the progress of the business process represented by the use case.\\n', '20': 'Interactive SystemsInvolves almost-fixed sequence of requests & responses between the actor and the system.\\nWhile each use-case involve only one actor, systems typically handle a lot of instances in parallel.\\nExamples ???? \\n\\n', '21': 'Interative SystemsInvolves almost-fixed sequence of requests & responses between the actor and the system.\\nWhile each use-case involve only one actor, systems typically handle a lot of instances in parallel.\\nExamples: \\nTypical Online Shopping site\\nAirline Reservation\\nOnline Tax Preparation\\nOnline Test \\nTelephone calls\\n\\n', '22': 'Event-Driven Systems', '23': 'Characteristics of Event-Driven SystemsIt receives events from and controls external entities.\\nIt does not have a fixed sequence of incoming requests; requests arrive at the system randomly.\\nIt does not need to respond to every incoming event. Its response is state dependent—the same event may result in different responses depending on system state.\\xa0\\nIt interacts with more than one external entity at the same time.\\nExternal entities are often hardware devices or software components rather than human beings.\\nIts state may not reflect the progress of a computation.\\xa0\\nIt may need to meet timing constraints, temporal constraints, and timed temporal constraints.\\n', '24': 'Event driven systemsSystem receives events from the external entities (typically not humans) and responds as needed. \\nMost embedded systems are event driven.\\n\\nExamples ??? \\n\\n', '25': 'Event driven systemsSystem receives events from the external entities (typically not humans) and responds as needed. \\nMost embedded systems are event driven.\\nExamples:\\nPeriodic reporting from the measurement devices in a jet\\nSensors in railway tracks\\nText messages from cellphones\\nLocation updates from cellphones to applications\\n\\n', '26': 'Transformational Systems', '27': 'Characteristics of Transformational Systemsconsist of a network of information-processing activities, transforming activity input to activity output.\\nActivities may involve control flows that exhibit sequencing, conditional branching, parallel threads, synchronous and asynchronous behavior.\\nDuring the transformation of the input into the output, there is little or no interaction between system and actor—it is a batch process.\\nusually, stateless.\\nmay perform number crunching or computation intensive algorithms.\\nThe actors can be human beings, devices, or other systems.\\n', '28': 'Transformational SystemsA network of Information Processing activities\\nExamples ???? ', '29': 'Transformational SystemsA network of Information Processing activities\\nExamples:\\nCompiler : Source code \\uf0e0 executable code \\nLexical analysis, Syntax analysis, Code Generation & Code Optimization', '30': 'Transformational SystemsA network of Information Processing activities\\nExamples:\\nCompiler : Source code \\uf0e0 executable code \\nLexical analysis, Syntax analysis, Code Generation & Code Optimization\\nWorkflow management in a company with multi-step approval process\\nnew hire OR high-end purchasing \\nDatabase transformation & merge \\nfor company mergers OR information gathering for mega-database\\nMedical data format change for Electronic Medical Records\\nDrive data upload from Electric car @ Home', '31': 'Characteristics of Database SystemsAka Object-Persistence Systems\\nProvides object storage and retrieval capabilities to other subsystems.\\nHides the implementation from the rest of the system.\\nCapable of efficient storage, retrieval, and updating of a huge amount of structured and complex data.\\nFits better as a subsystem in a larger system to provide database functionality.\\nExamples:\\nAny system that primarily offers lookup functionality, not much else!\\n', '32': 'Popular Software Architecture\\xa0 Style #1Client-server architecture runs on \\na network in which many clients (remote processors) request and receive service from a centralized server (host computer). \\nClient computers provide an interface to allow a user to request services of the server and to display the results the server returns.Any examples ???', '33': 'Popular Software Architecture\\xa0 Style #1Client-server architecture runs on \\na network in which many clients (remote processors) request and receive service from a centralized server (host computer). \\nClient computers provide an interface to allow a user to request services of the server and to display the results the server returns.Any examples ???\\n\\nMost web-based applications, file servers, &\\nfile transfer protocol (ftp) ', '34': 'Client-server architecture – ABHS exampleFigure 6.5 Applying client-server architecture style\\xa0clients can be added to or removed from the system freely without impacting the work of the server (except performance impact).\\nthe passenger check-in clients are lightweight clients ( as the server provides most of the needed services)', '35': 'Client-server architectureDistributed system model \\nshows how data and processing is distributed across a range of components.\\nCan be implemented on a single computer.\\nSet of stand-alone servers which provide specific services such as printing, data management, etc.\\nSet of clients which call on these services.\\nNetwork which allows clients to access servers.Chapter 6 Architectural Design3623/02/2023', '36': 'The Client–server pattern Chapter 6 Architectural Design3723/02/2023', '37': 'A client–server architecture for a film library Chapter 6 Architectural Design3823/02/2023', '38': 'Popular Software Architecture\\xa0 Style #2N-tier or multi-tier architecture extends the client-server architecture concept - the presentation, processing and data management functions are both logically and physically separated. \\n', '39': 'N-tier or multi-tier architecture …', '40': 'OSI 7-layer architecture for Networking', '41': '', '42': 'How the data travels?', '43': '', '44': 'What did you learn about OSI 7 layers?', '45': 'The Layered architecture pattern Chapter 6 Architectural Design4623/02/2023', '46': 'A generic layered architecture Chapter 6 Architectural Design4723/02/2023The architecture of the iLearn system ', '47': 'Popular Software Architecture\\xa0 Style #3Main program & subroutines architecture \\nOrganizes the components of the system into a tree structure.\\nComputation begins with the root or main program and is carried out by the descendants recursively down the tree. \\nUseful for designing transformational or workflow-oriented systems.\\nComes from Data flow diagram in SA/SD', '48': \"Main program & subroutines architectureData flow model & it's mapping to architecture design\", '49': 'Popular Software Architecture\\xa0Style #4Event-driven System architecture consists of a state-based controller and several components under its control.\\nan event-driven system exhibits state-dependent behavior', '50': 'Event-driven System architecture – Example', '51': 'Popular Software Architecture\\xa0 Style #5Persistence Framework architecture focuses on saving data (objects) to a database enabling retrieval later.', '52': 'Several more architecture styles…', '53': 'Several more architecture styles…', '54': 'Several more architecture styles…', '55': 'Several more architecture styles…', '56': 'Several more architecture styles…', '57': 'Several more architecture styles…', '58': 'Analogy for Architectural Design Process: Selecting the dress for the occasionWhat type of event you are going to?\\nParty, School, Office, Interview, Workout, Swimming, …\\n\\nWhat style of dress you want to wear?\\nInformal, Formal, Fancy, Swimwear, ….', '59': 'System type \\uf0e0 Architectural Style', '60': 'Mapping system types to architecture styles', '61': 'Perform Custom Architectural Design', '62': 'Perform Custom Architectural Design', '63': 'Perform Custom Architectural Design', '64': 'Specify Subsystem\\xa0Functions and\\xa0InterfacesAllocate requirements and architectural\\xa0design objectives to subsystems and\\xa0components.\\nSpecify the functionality of each\\xa0subsystem and component.', '65': 'Specify Subsystem\\xa0Functions and\\xa0InterfacesAllocate requirements and architectural\\xa0design objectives to subsystems and\\xa0components.\\nSpecify the functionality of each\\xa0subsystem and component.\\nSpecify the interfaces of the subsystems\\xa0and components.\\nSpecify the interaction behavior of the\\xa0subsystems and components.', '66': 'Review the Architectural\\xa0DesignReview to ensure that the requirements and architectural\\xa0design objectives are met.\\nReview to ensure that the architectural design satisfies\\xa0software design principles.\\nReview to ensure that the architectural design satisfies\\nsecurity requirements\\nconstraints, and \\nsecure software\\xa0design principles.\\n', '67': 'Guidelines for Architectural Design', '68': 'Applying Agile PrinciplesValue working software over comprehensive documentation.\\nApply the 20/80 rule - that is, good enough is enough.\\n'}\n"
          ]
        }
      ]
    },
    {
      "cell_type": "markdown",
      "source": [
        "##Full Slide"
      ],
      "metadata": {
        "id": "87o4pEDk4I2t"
      }
    },
    {
      "cell_type": "code",
      "source": [
        "#prompt demonstration\n",
        "full_system = \"I want you to summarize the given content. I will provide you with the entire contents of a PowerPoint presentation, and you will provide me with a summary of the entire slides.\"\n",
        "full_user = \"\"\n",
        "full_assistant = \"\"\n",
        "prompt_full = make_prompt_format(full_system, full_user, full_assistant)\n",
        "\n",
        "app_full = ChatApp(prompt_full)\n",
        "message = full_slide\n",
        "result_full = app_full.chat(message)\n",
        "\n",
        "result_full"
      ],
      "metadata": {
        "id": "cZgXLhJK4Q9I",
        "colab": {
          "base_uri": "https://localhost:8080/",
          "height": 178
        },
        "outputId": "62847725-15ce-4a5c-8a63-b451ac8a5a0c"
      },
      "execution_count": 29,
      "outputs": [
        {
          "output_type": "execute_result",
          "data": {
            "text/plain": [
              "'The PowerPoint presentation covers the topic of Architectural Design and its importance in software development. It begins by defining Architectural Design and highlighting its significance in terms of system performance, efficiency, security, and maintainability. The presentation then proceeds to discuss the consequences of architectural design flaws, providing examples of such flaws. It talks about the architectural design process, objectives, and decisions, focusing on maintainability, use of commercial off-the-shelf (COTS) parts, system performance, security, safety, availability, reliability, fault tolerance, and recovery. The presentation explains four types of systems/subsystems, namely interactive systems, event-driven systems, transformational systems, and database systems, and provides examples for each. It also discusses different software architecture styles, such as client-server architecture, N-tier or multi-tier architecture, main program and subroutines architecture, event-driven system architecture, and persistence framework architecture. The presentation ends by providing guidelines for architectural design and applying agile principles.'"
            ],
            "application/vnd.google.colaboratory.intrinsic+json": {
              "type": "string"
            }
          },
          "metadata": {},
          "execution_count": 29
        }
      ]
    },
    {
      "cell_type": "markdown",
      "source": [
        "##Each Slide"
      ],
      "metadata": {
        "id": "8ZqMshgm4MrY"
      }
    },
    {
      "cell_type": "code",
      "source": [
        "#prompt demonstration\n",
        "each_system = \"I want you to summarize the given content. I will provide you with the contents of a PowerPoint presentation, and you will provide me with a summary of the slide.\"\n",
        "each_user = \"Design flaws – a few examples What if the system does not handle multiple customers purchasing items simultaneously ?\\n\\t\\uf0e0the shopping cart becomes common for both customers! \\uf04c\\n\\nWhat if web server does too much processing for each transaction? \\n\\t\\uf0e0capacity of the web server comes down drastically & the web server crashes when too many requests come within a small-time window!\\n\\nWhat if the security requirements are ignored ? \\n\\t\\uf0e0hacker can manipulate the prices of items in the shopping cart \\n\\nWhat if the team misses to identify several generic components for which COTS are available ?\\n\\t\\uf0e0the team develops everything in-house…\\n\\n\\n\"\n",
        "each_assistant = \"The PowerPoint presentation highlights several design flaws such as the shopping cart becoming common for multiple customers, the web server crashing due to excessive processing, hackers manipulating prices due to ignored security requirements, and developing everything in-house due to missed identification of available COTS components.\"\n",
        "prompt_each = make_prompt_format(each_system, each_user, each_assistant)\n",
        "\n",
        "result_each = {}\n",
        "app_each = ChatApp(prompt_each)\n",
        "for i in range(len(each_slide)):\n",
        "# for i in range(5):\n",
        "  message = each_slide[f'{i}']\n",
        "  res = app_each.chat(message)\n",
        "  result_each[f'{i}'] = res\n",
        "\n",
        "result_each"
      ],
      "metadata": {
        "colab": {
          "base_uri": "https://localhost:8080/"
        },
        "id": "2RR9dnM37YXD",
        "outputId": "f4b67339-ec84-47b0-a615-056c882db364"
      },
      "execution_count": 33,
      "outputs": [
        {
          "output_type": "execute_result",
          "data": {
            "text/plain": [
              "{'0': 'Architectural design refers to the process of defining the structure, behavior, and components of a software system. It involves identifying the various modules of the system, their relationships, and how they interact with each other. The architectural design is crucial as it lays the foundation for the rest of the software development process. A good architectural design ensures that the software system is scalable, maintainable, and meets the functional and non-functional requirements. It also helps in identifying potential risks and mitigating them in the early stages of development.',\n",
              " '1': \"The PowerPoint presentation explains that architectural design is crucial as it identifies the main components and their relationships in a software system. The output of this phase is an architectural model that determines the system's organization as a set of communicating components. The architecture of a software system has a significant impact on its performance, efficiency, security, and maintainability. Design flaws in the architectural phase can lead to project failure.\",\n",
              " '2': 'The presentation outlines various design flaws, including issues with handling multiple customers purchasing simultaneously, excessive processing by the web server, security requirements being ignored leading to hacker manipulation, and missed identification of available COTS components resulting in in-house development.',\n",
              " '3': 'The presentation highlights potential design flaws such as the shopping cart becoming shared between multiple customers, web server crashes due to excessive processing, security vulnerabilities leading to price manipulation, and missed opportunities to utilize available COTS components resulting in in-house development.',\n",
              " '4': \"The architectural design process involves several steps, including understanding the problem, defining the system requirements, creating an architectural model, evaluating the model, and refining the model. The process begins with understanding the problem and identifying the goals and objectives of the system. Next, the system requirements are defined, which includes specifying the functional and non-functional requirements of the system. \\n\\nAfter defining the system requirements, an architectural model is created, which includes the system's components, their interactions, and the system's overall structure. This model is then evaluated to ensure it meets the system requirements and is capable of achieving the system's goals and objectives. \\n\\nIf the model does not meet the requirements, it is refined and updated until it does. The final step in the architectural design process is to document the design and communicate it to stakeholders, including developers, testers, and project managers. This documentation ensures that everyone involved in the project understands the system's design and how it will be implemented.\"}"
            ]
          },
          "metadata": {},
          "execution_count": 33
        }
      ]
    },
    {
      "cell_type": "markdown",
      "source": [
        "##Keyword"
      ],
      "metadata": {
        "id": "nbi5cuzO4M0W"
      }
    },
    {
      "cell_type": "code",
      "source": [
        "#prompt demonstration\n",
        "keyword_system = \"I want you to act as a keyword detector. I will give you the contents of a PowerPoint presentation, and you will provide me with the relevant keywords along with their explanations.\"\n",
        "keyword_user = \"slide 16: Agility & Architecture Agile approach implements a few requirements in each sprint. However, we cannot do the same for the architecture of a complex system! We cannot start with the bare-minimum architecture & keep expanding.  Refactoring/ revamping the architecture may be as bad as restarting from scratch – can be expensive & time-consuming!  In other words, agile approach is primarily for development & beyond…\"\n",
        "keyword_assistant = \"slide: 16: 1. Agility: the ability of a team or organization to quickly adapt to changing circumstances, requirements, or priorities. It focuses on being flexible, responsive, and adaptive in the face of uncertainties, evolving customer needs, and market conditions. 2. Agile approach: a project management and product development methodology that emphasizes iterative and incremental progress, collaboration, and flexibility. In Agile, work is organized into small, manageable tasks called sprints, which are typically two to four weeks in duration. Teams prioritize and complete these tasks while regularly reassessing and adjusting their priorities based on feedback and changing requirements. 3. Bare-minimum architecture: the simplest possible structure or design for a system that can still meet its basic functional requirements. This approach is usually not recommended for complex systems, as it can lead to significant challenges when it comes to expanding or refining the architecture to accommodate new features or improvements. 4. Refactoring: the process of restructuring and improving existing code without changing its external behavior or functionality. This can involve cleaning up the code, optimizing performance, or simplifying the design to make it more maintainable and easier to understand. 5. Revamping: the process of making significant improvements or overhauling an existing system, product, or process. In the context of software architecture, this might involve rethinking the overall design, updating outdated components, or introducing new technologies to better align with current requirements and best practices. 6. Scratch: In the context of software development, \\\"starting from scratch\\\" refers to the act of creating a new system, application, or component entirely from the beginning, rather than building upon or modifying an existing one. This can be a time-consuming and costly process, but in some cases, it may be necessary if the existing system or architecture is deemed unsuitable or too difficult to refactor or revamp.\"\n",
        "prompt_keyword = make_prompt_format(keyword_system, keyword_user, keyword_assistant)\n",
        "\n",
        "result_keyword = {}\n",
        "for i in range(len(each_slide)):\n",
        "# for i in range(2):\n",
        "  app_keyword = ChatApp(prompt_keyword)\n",
        "  message = each_slide[f'{i}']\n",
        "  res = app_keyword.chat(message)\n",
        "  result_keyword[f'{i}'] = res\n",
        "\n",
        "result_keyword"
      ],
      "metadata": {
        "id": "vmq2ADfU5WCr",
        "colab": {
          "base_uri": "https://localhost:8080/"
        },
        "outputId": "dd872528-03b7-4e20-a2d0-6680b15f5814"
      },
      "execution_count": 35,
      "outputs": [
        {
          "output_type": "execute_result",
          "data": {
            "text/plain": [
              "{'0': 'I can provide you with the relevant keywords and their explanations related to architectural design. Please let me know if you want me to proceed.',\n",
              " '1': \"Keywords and their explanations:\\n\\n1. Architectural design: the process of defining the overall structure, composition, behavior, and functionality of a software system. It involves identifying the key components, interfaces, and relationships between different parts of the system, as well as specifying the constraints, requirements, and quality attributes that the architecture must satisfy. \\n\\n2. Structural components: the primary building blocks or modules of a software system, such as classes, objects, functions, or services. These components may interact with each other through well-defined interfaces, protocols, or APIs, and may be organized hierarchically or functionally based on their roles and responsibilities. \\n\\n3. Architectural model: a high-level abstraction or representation of the software system's architecture, typically expressed using diagrams, models, or formal languages. The model may capture the system's static or dynamic aspects, and may be used to communicate the architecture to stakeholders, developers, or other interested parties. \\n\\n4. System performance: the measure of how well a software system meets its functional and non-functional requirements, such as speed, throughput, latency, scalability, and reliability. The architecture of a system can have a significant impact on its performance, as it affects the distribution of workload, the allocation of resources, and the optimization of algorithms and data structures. \\n\\n5. Efficiency: the measure of how well a software system utilizes its resources, such as CPU, memory, disk, or network bandwidth, to perform its tasks. A well-designed architecture can improve the efficiency of a system by minimizing redundancy, maximizing reuse, and optimizing the use of shared resources. \\n\\n6. Security: the measure of how well a software system protects its data, assets, and users from unauthorized access, modification, or disclosure. The architecture of a system can affect its security by defining the trust boundaries, access controls, encryption, and authentication mechanisms used to enforce security policies. \\n\\n7. Maintainability: the measure of how easy or difficult it is to modify, update, or extend a software system over time. The architecture of a system can influence its maintainability by promoting modularity, encapsulation, separation of concerns, and other principles of good design. \\n\\n8. Architectural design flaws: errors, omissions, or inconsistencies in the architectural design of a software system that may cause it to fail to meet its requirements, perform poorly, or be difficult to maintain. Flaws may result from inadequate analysis, poor communication, lack of expertise, or other factors, and may require costly and time-consuming rework to fix.\"}"
            ]
          },
          "metadata": {},
          "execution_count": 35
        }
      ]
    }
  ]
}