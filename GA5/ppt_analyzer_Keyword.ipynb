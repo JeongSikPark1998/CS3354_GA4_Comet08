{
  "nbformat": 4,
  "nbformat_minor": 0,
  "metadata": {
    "colab": {
      "provenance": []
    },
    "kernelspec": {
      "name": "python3",
      "display_name": "Python 3"
    },
    "language_info": {
      "name": "python"
    }
  },
  "cells": [
    {
      "cell_type": "markdown",
      "source": [
        "#Install"
      ],
      "metadata": {
        "id": "w_6R5UeNUwYr"
      }
    },
    {
      "cell_type": "code",
      "execution_count": null,
      "metadata": {
        "id": "9T08ieoiUp_W"
      },
      "outputs": [],
      "source": [
        "!pip install python-pptx\n",
        "\n",
        "from google.colab import drive\n",
        "import os\n",
        "import pptx\n",
        "from pptx.enum.shapes import MSO_SHAPE_TYPE\n",
        "\n",
        "!pip install openai\n",
        "import openai\n",
        "import os\n",
        "import time\n",
        "import pandas as pd\n",
        "!pip install --upgrade openai"
      ]
    },
    {
      "cell_type": "code",
      "source": [
        "#your API key\n",
        "os.environ[\"OPENAI_API_KEY\"] = '[YOUR_API_KEY]'\n",
        "\n",
        "#load ppt from the google drive\n",
        "drive.mount('/content/gdrive')\n",
        "os.chdir(\"/content/gdrive/My Drive/analyzer/input_ppt\")"
      ],
      "metadata": {
        "id": "-M_WLNMXUx3X"
      },
      "execution_count": null,
      "outputs": []
    },
    {
      "cell_type": "markdown",
      "source": [
        "#Functions"
      ],
      "metadata": {
        "id": "mM8zpAnxU0hl"
      }
    },
    {
      "cell_type": "code",
      "source": [
        "class ChatApp: #no demo, only template\n",
        "    def __init__(self, input):\n",
        "        # Setting the API key to use the OpenAI API\n",
        "        openai.api_key = os.getenv(\"OPENAI_API_KEY\")\n",
        "        self.messages = input\n",
        "\n",
        "    def chat(self, message):\n",
        "        self.messages.append({\"role\": \"user\", \"content\": message})\n",
        "        response = openai.ChatCompletion.create(\n",
        "            model=\"gpt-3.5-turbo\",\n",
        "            messages=self.messages,\n",
        "            temperature=0.7,\n",
        "            top_p = 1,\n",
        "        )\n",
        "        self.messages.append({\"role\": \"assistant\", \"content\": response[\"choices\"][0][\"message\"].content})\n",
        "\n",
        "        for i in range(2):\n",
        "          self.messages.pop()\n",
        "\n",
        "        return response[\"choices\"][0][\"message\"][\"content\"]"
      ],
      "metadata": {
        "id": "E0YYEuOvUx45"
      },
      "execution_count": null,
      "outputs": []
    },
    {
      "cell_type": "code",
      "source": [
        "def make_prompt_format(system, user, assistant): #prompt demonstration\n",
        "  #system\n",
        "  input = [{\"role\": \"system\", \"content\": system}]\n",
        "  if user != \"\":\n",
        "    #user\n",
        "    demo_user = []\n",
        "    demo_user.append(user)\n",
        "    #assistant\n",
        "    demo_assistant = []\n",
        "    demo_assistant.append(assistant)\n",
        "\n",
        "    #make format for API\n",
        "    demo = pd.DataFrame({'user': demo_user, 'assistant': demo_assistant})\n",
        "    for prompt, completion in zip(demo['user'], demo['assistant']):\n",
        "      message_dict = {\"role\": \"user\", \"content\": prompt}\n",
        "      input.append(message_dict)\n",
        "      message_dict = {\"role\": \"assistant\", \"content\": completion}\n",
        "      input.append(message_dict)\n",
        "    \n",
        "  return input"
      ],
      "metadata": {
        "id": "7nfBu-ANUx5-"
      },
      "execution_count": null,
      "outputs": []
    },
    {
      "cell_type": "markdown",
      "source": [
        "#Main"
      ],
      "metadata": {
        "id": "oeIoc74mU3If"
      }
    },
    {
      "cell_type": "markdown",
      "source": [
        "##Load Data"
      ],
      "metadata": {
        "id": "HWEJkOxlU3jk"
      }
    },
    {
      "cell_type": "code",
      "source": [
        "#load ppt file\n",
        "ppt = pptx.Presentation('Architecture_Design.pptx')\n",
        "\n",
        "#for full slide\n",
        "full_slide = []\n",
        "content_full = \"Entire contents: \"\n",
        "for i, slide in enumerate(ppt.slides):\n",
        "  content_full = content_full + f\"  *slide {i}: \"\n",
        "  for shape in slide.shapes:\n",
        "    if hasattr(shape, \"text\"):\n",
        "      content_full = content_full + shape.text\n",
        "full_slide = content_full\n",
        "\n",
        "# print(\"*\"*10)\n",
        "# print(full_slide)\n",
        "\n",
        "#for each slide, keywords\n",
        "each_slide = {} #dictionary form\n",
        "for i, slide in enumerate(ppt.slides):\n",
        "  content_each = \"\"\n",
        "  for shape in slide.shapes:\n",
        "    if hasattr(shape, \"text\"):\n",
        "      content_each = content_each + shape.text\n",
        "  each_slide[f'{i}'] = content_each \n",
        "\n",
        "# print(\"*\"*10)\n",
        "# print(each_slide)"
      ],
      "metadata": {
        "id": "jJe69MLSUx7X"
      },
      "execution_count": null,
      "outputs": []
    },
    {
      "cell_type": "markdown",
      "source": [
        "##Keyword"
      ],
      "metadata": {
        "id": "P02g8GX2U7Dt"
      }
    },
    {
      "cell_type": "code",
      "source": [
        "# Extract Keywords from each slide with the explanation"
      ],
      "metadata": {
        "id": "4e_ULVzHU4n2"
      },
      "execution_count": null,
      "outputs": []
    },
    {
      "cell_type": "code",
      "source": [
        "#prompt demonstration\n",
        "keyword_system = \"I want you to act as a keyword detector. I will give you the contents of a PowerPoint presentation, and you will provide me with the relevant keywords along with their explanations.\"\n",
        "keyword_user = \"slide 16: Agility & Architecture Agile approach implements a few requirements in each sprint. However, we cannot do the same for the architecture of a complex system! We cannot start with the bare-minimum architecture & keep expanding.  Refactoring/ revamping the architecture may be as bad as restarting from scratch – can be expensive & time-consuming!  In other words, agile approach is primarily for development & beyond…\"\n",
        "keyword_assistant = \"slide: 16: 1. Agility: the ability of a team or organization to quickly adapt to changing circumstances, requirements, or priorities. It focuses on being flexible, responsive, and adaptive in the face of uncertainties, evolving customer needs, and market conditions. 2. Agile approach: a project management and product development methodology that emphasizes iterative and incremental progress, collaboration, and flexibility. In Agile, work is organized into small, manageable tasks called sprints, which are typically two to four weeks in duration. Teams prioritize and complete these tasks while regularly reassessing and adjusting their priorities based on feedback and changing requirements. 3. Bare-minimum architecture: the simplest possible structure or design for a system that can still meet its basic functional requirements. This approach is usually not recommended for complex systems, as it can lead to significant challenges when it comes to expanding or refining the architecture to accommodate new features or improvements. 4. Refactoring: the process of restructuring and improving existing code without changing its external behavior or functionality. This can involve cleaning up the code, optimizing performance, or simplifying the design to make it more maintainable and easier to understand. 5. Revamping: the process of making significant improvements or overhauling an existing system, product, or process. In the context of software architecture, this might involve rethinking the overall design, updating outdated components, or introducing new technologies to better align with current requirements and best practices. 6. Scratch: In the context of software development, \\\"starting from scratch\\\" refers to the act of creating a new system, application, or component entirely from the beginning, rather than building upon or modifying an existing one. This can be a time-consuming and costly process, but in some cases, it may be necessary if the existing system or architecture is deemed unsuitable or too difficult to refactor or revamp.\"\n",
        "prompt_keyword = make_prompt_format(keyword_system, keyword_user, keyword_assistant)\n",
        "\n",
        "#extract keyword for each slide with an explanation\n",
        "result_keyword = {}\n",
        "for i in range(len(each_slide)):\n",
        "  app_keyword = ChatApp(prompt_keyword)\n",
        "  message = each_slide[f'{i}']\n",
        "  res = app_keyword.chat(message)\n",
        "  time.sleep(3) #API call restriction, 20 calls per a minute\n",
        "  result_keyword[f'{i}'] = res\n",
        "\n",
        "result_keyword"
      ],
      "metadata": {
        "id": "_LfNuLnvU4qL"
      },
      "execution_count": null,
      "outputs": []
    }
  ]
}