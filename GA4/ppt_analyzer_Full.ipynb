{
  "nbformat": 4,
  "nbformat_minor": 0,
  "metadata": {
    "colab": {
      "provenance": []
    },
    "kernelspec": {
      "name": "python3",
      "display_name": "Python 3"
    },
    "language_info": {
      "name": "python"
    }
  },
  "cells": [
    {
      "cell_type": "markdown",
      "source": [
        "#Install"
      ],
      "metadata": {
        "id": "CDsjFy833IN-"
      }
    },
    {
      "cell_type": "code",
      "execution_count": null,
      "metadata": {
        "id": "G9KRTi872-mY",
        "colab": {
          "base_uri": "https://localhost:8080/"
        },
        "outputId": "98a365a1-7862-4323-d148-7962cffc2fca"
      },
      "outputs": [
        {
          "output_type": "stream",
          "name": "stdout",
          "text": [
            "Looking in indexes: https://pypi.org/simple, https://us-python.pkg.dev/colab-wheels/public/simple/\n",
            "Collecting python-pptx\n",
            "  Downloading python-pptx-0.6.21.tar.gz (10.1 MB)\n",
            "\u001b[2K     \u001b[90m━━━━━━━━━━━━━━━━━━━━━━━━━━━━━━━━━━━━━━━━\u001b[0m \u001b[32m10.1/10.1 MB\u001b[0m \u001b[31m29.8 MB/s\u001b[0m eta \u001b[36m0:00:00\u001b[0m\n",
            "\u001b[?25h  Preparing metadata (setup.py) ... \u001b[?25l\u001b[?25hdone\n",
            "Requirement already satisfied: lxml>=3.1.0 in /usr/local/lib/python3.9/dist-packages (from python-pptx) (4.9.2)\n",
            "Requirement already satisfied: Pillow>=3.3.2 in /usr/local/lib/python3.9/dist-packages (from python-pptx) (8.4.0)\n",
            "Collecting XlsxWriter>=0.5.7\n",
            "  Downloading XlsxWriter-3.1.0-py3-none-any.whl (152 kB)\n",
            "\u001b[2K     \u001b[90m━━━━━━━━━━━━━━━━━━━━━━━━━━━━━━━━━━━━━━━\u001b[0m \u001b[32m152.7/152.7 kB\u001b[0m \u001b[31m3.4 MB/s\u001b[0m eta \u001b[36m0:00:00\u001b[0m\n",
            "\u001b[?25hBuilding wheels for collected packages: python-pptx\n",
            "  Building wheel for python-pptx (setup.py) ... \u001b[?25l\u001b[?25hdone\n",
            "  Created wheel for python-pptx: filename=python_pptx-0.6.21-py3-none-any.whl size=470949 sha256=3d42c28fccda0b8355a776b903fb0c124f1441de294c5276cc5afb87285dd487\n",
            "  Stored in directory: /root/.cache/pip/wheels/0e/4a/ed/9653bc799915f52dce3f04d14946fbd85cce9c3cdedc9cfa71\n",
            "Successfully built python-pptx\n",
            "Installing collected packages: XlsxWriter, python-pptx\n",
            "Successfully installed XlsxWriter-3.1.0 python-pptx-0.6.21\n",
            "Looking in indexes: https://pypi.org/simple, https://us-python.pkg.dev/colab-wheels/public/simple/\n",
            "Collecting openai\n",
            "  Downloading openai-0.27.4-py3-none-any.whl (70 kB)\n",
            "\u001b[2K     \u001b[90m━━━━━━━━━━━━━━━━━━━━━━━━━━━━━━━━━━━━━━━━\u001b[0m \u001b[32m70.3/70.3 kB\u001b[0m \u001b[31m1.7 MB/s\u001b[0m eta \u001b[36m0:00:00\u001b[0m\n",
            "\u001b[?25hRequirement already satisfied: tqdm in /usr/local/lib/python3.9/dist-packages (from openai) (4.65.0)\n",
            "Requirement already satisfied: requests>=2.20 in /usr/local/lib/python3.9/dist-packages (from openai) (2.27.1)\n",
            "Collecting aiohttp\n",
            "  Downloading aiohttp-3.8.4-cp39-cp39-manylinux_2_17_x86_64.manylinux2014_x86_64.whl (1.0 MB)\n",
            "\u001b[2K     \u001b[90m━━━━━━━━━━━━━━━━━━━━━━━━━━━━━━━━━━━━━━━━\u001b[0m \u001b[32m1.0/1.0 MB\u001b[0m \u001b[31m15.9 MB/s\u001b[0m eta \u001b[36m0:00:00\u001b[0m\n",
            "\u001b[?25hRequirement already satisfied: idna<4,>=2.5 in /usr/local/lib/python3.9/dist-packages (from requests>=2.20->openai) (3.4)\n",
            "Requirement already satisfied: certifi>=2017.4.17 in /usr/local/lib/python3.9/dist-packages (from requests>=2.20->openai) (2022.12.7)\n",
            "Requirement already satisfied: charset-normalizer~=2.0.0 in /usr/local/lib/python3.9/dist-packages (from requests>=2.20->openai) (2.0.12)\n",
            "Requirement already satisfied: urllib3<1.27,>=1.21.1 in /usr/local/lib/python3.9/dist-packages (from requests>=2.20->openai) (1.26.15)\n",
            "Requirement already satisfied: attrs>=17.3.0 in /usr/local/lib/python3.9/dist-packages (from aiohttp->openai) (23.1.0)\n",
            "Collecting aiosignal>=1.1.2\n",
            "  Downloading aiosignal-1.3.1-py3-none-any.whl (7.6 kB)\n",
            "Collecting frozenlist>=1.1.1\n",
            "  Downloading frozenlist-1.3.3-cp39-cp39-manylinux_2_5_x86_64.manylinux1_x86_64.manylinux_2_17_x86_64.manylinux2014_x86_64.whl (158 kB)\n",
            "\u001b[2K     \u001b[90m━━━━━━━━━━━━━━━━━━━━━━━━━━━━━━━━━━━━━━━\u001b[0m \u001b[32m158.8/158.8 kB\u001b[0m \u001b[31m7.9 MB/s\u001b[0m eta \u001b[36m0:00:00\u001b[0m\n",
            "\u001b[?25hCollecting multidict<7.0,>=4.5\n",
            "  Downloading multidict-6.0.4-cp39-cp39-manylinux_2_17_x86_64.manylinux2014_x86_64.whl (114 kB)\n",
            "\u001b[2K     \u001b[90m━━━━━━━━━━━━━━━━━━━━━━━━━━━━━━━━━━━━━━━\u001b[0m \u001b[32m114.2/114.2 kB\u001b[0m \u001b[31m2.3 MB/s\u001b[0m eta \u001b[36m0:00:00\u001b[0m\n",
            "\u001b[?25hCollecting yarl<2.0,>=1.0\n",
            "  Downloading yarl-1.8.2-cp39-cp39-manylinux_2_17_x86_64.manylinux2014_x86_64.whl (264 kB)\n",
            "\u001b[2K     \u001b[90m━━━━━━━━━━━━━━━━━━━━━━━━━━━━━━━━━━━━━━\u001b[0m \u001b[32m264.6/264.6 kB\u001b[0m \u001b[31m11.1 MB/s\u001b[0m eta \u001b[36m0:00:00\u001b[0m\n",
            "\u001b[?25hCollecting async-timeout<5.0,>=4.0.0a3\n",
            "  Downloading async_timeout-4.0.2-py3-none-any.whl (5.8 kB)\n",
            "Installing collected packages: multidict, frozenlist, async-timeout, yarl, aiosignal, aiohttp, openai\n",
            "Successfully installed aiohttp-3.8.4 aiosignal-1.3.1 async-timeout-4.0.2 frozenlist-1.3.3 multidict-6.0.4 openai-0.27.4 yarl-1.8.2\n",
            "Looking in indexes: https://pypi.org/simple, https://us-python.pkg.dev/colab-wheels/public/simple/\n",
            "Requirement already satisfied: openai in /usr/local/lib/python3.9/dist-packages (0.27.4)\n",
            "Requirement already satisfied: aiohttp in /usr/local/lib/python3.9/dist-packages (from openai) (3.8.4)\n",
            "Requirement already satisfied: requests>=2.20 in /usr/local/lib/python3.9/dist-packages (from openai) (2.27.1)\n",
            "Requirement already satisfied: tqdm in /usr/local/lib/python3.9/dist-packages (from openai) (4.65.0)\n",
            "Requirement already satisfied: certifi>=2017.4.17 in /usr/local/lib/python3.9/dist-packages (from requests>=2.20->openai) (2022.12.7)\n",
            "Requirement already satisfied: charset-normalizer~=2.0.0 in /usr/local/lib/python3.9/dist-packages (from requests>=2.20->openai) (2.0.12)\n",
            "Requirement already satisfied: idna<4,>=2.5 in /usr/local/lib/python3.9/dist-packages (from requests>=2.20->openai) (3.4)\n",
            "Requirement already satisfied: urllib3<1.27,>=1.21.1 in /usr/local/lib/python3.9/dist-packages (from requests>=2.20->openai) (1.26.15)\n",
            "Requirement already satisfied: frozenlist>=1.1.1 in /usr/local/lib/python3.9/dist-packages (from aiohttp->openai) (1.3.3)\n",
            "Requirement already satisfied: async-timeout<5.0,>=4.0.0a3 in /usr/local/lib/python3.9/dist-packages (from aiohttp->openai) (4.0.2)\n",
            "Requirement already satisfied: yarl<2.0,>=1.0 in /usr/local/lib/python3.9/dist-packages (from aiohttp->openai) (1.8.2)\n",
            "Requirement already satisfied: attrs>=17.3.0 in /usr/local/lib/python3.9/dist-packages (from aiohttp->openai) (23.1.0)\n",
            "Requirement already satisfied: aiosignal>=1.1.2 in /usr/local/lib/python3.9/dist-packages (from aiohttp->openai) (1.3.1)\n",
            "Requirement already satisfied: multidict<7.0,>=4.5 in /usr/local/lib/python3.9/dist-packages (from aiohttp->openai) (6.0.4)\n"
          ]
        }
      ],
      "source": [
        "!pip install python-pptx\n",
        "\n",
        "from google.colab import drive\n",
        "import os\n",
        "import pptx\n",
        "from pptx.enum.shapes import MSO_SHAPE_TYPE\n",
        "\n",
        "!pip install openai\n",
        "import openai\n",
        "import os\n",
        "import time\n",
        "import pandas as pd\n",
        "!pip install --upgrade openai"
      ]
    },
    {
      "cell_type": "code",
      "source": [
        "#your API key\n",
        "os.environ[\"OPENAI_API_KEY\"] = '[YOUR_API_KEY]'\n",
        "\n",
        "#load ppt from the google drive\n",
        "drive.mount('/content/gdrive')\n",
        "os.chdir(\"/content/gdrive/My Drive/analyzer/input_ppt\")"
      ],
      "metadata": {
        "id": "2jZONazU3Og2",
        "colab": {
          "base_uri": "https://localhost:8080/"
        },
        "outputId": "c6494eac-8221-4b61-f708-edb0ff6b2575"
      },
      "execution_count": null,
      "outputs": [
        {
          "output_type": "stream",
          "name": "stdout",
          "text": [
            "Drive already mounted at /content/gdrive; to attempt to forcibly remount, call drive.mount(\"/content/gdrive\", force_remount=True).\n"
          ]
        }
      ]
    },
    {
      "cell_type": "markdown",
      "source": [
        "# Functions"
      ],
      "metadata": {
        "id": "fF4p7npO3oAx"
      }
    },
    {
      "cell_type": "code",
      "source": [
        "class ChatApp: #no demo, only template\n",
        "    def __init__(self, input):\n",
        "        # Setting the API key to use the OpenAI API\n",
        "        openai.api_key = os.getenv(\"OPENAI_API_KEY\")\n",
        "        self.messages = input\n",
        "\n",
        "    def chat(self, message):\n",
        "        self.messages.append({\"role\": \"user\", \"content\": message})\n",
        "        response = openai.ChatCompletion.create(\n",
        "            model=\"gpt-3.5-turbo\",\n",
        "            messages=self.messages,\n",
        "            temperature=0.7,\n",
        "            top_p = 1,\n",
        "        )\n",
        "        self.messages.append({\"role\": \"assistant\", \"content\": response[\"choices\"][0][\"message\"].content})\n",
        "\n",
        "        for i in range(2):\n",
        "          self.messages.pop()\n",
        "\n",
        "        return response[\"choices\"][0][\"message\"][\"content\"]"
      ],
      "metadata": {
        "id": "I4xy491y3vKm"
      },
      "execution_count": null,
      "outputs": []
    },
    {
      "cell_type": "code",
      "source": [
        "def make_prompt_format(system, user, assistant): #prompt demonstration\n",
        "  #system\n",
        "  input = [{\"role\": \"system\", \"content\": system}]\n",
        "  if user != \"\":\n",
        "    #user\n",
        "    demo_user = []\n",
        "    demo_user.append(user)\n",
        "    #assistant\n",
        "    demo_assistant = []\n",
        "    demo_assistant.append(assistant)\n",
        "\n",
        "    #make format for API\n",
        "    demo = pd.DataFrame({'user': demo_user, 'assistant': demo_assistant})\n",
        "    for prompt, completion in zip(demo['user'], demo['assistant']):\n",
        "      message_dict = {\"role\": \"user\", \"content\": prompt}\n",
        "      input.append(message_dict)\n",
        "      message_dict = {\"role\": \"assistant\", \"content\": completion}\n",
        "      input.append(message_dict)\n",
        "    \n",
        "  return input"
      ],
      "metadata": {
        "id": "c0_y_y_e9ZBu"
      },
      "execution_count": null,
      "outputs": []
    },
    {
      "cell_type": "markdown",
      "source": [
        "#Main"
      ],
      "metadata": {
        "id": "xRDqP8AX-_7-"
      }
    },
    {
      "cell_type": "markdown",
      "source": [
        "##Load Data"
      ],
      "metadata": {
        "id": "hiI_mhK24TVe"
      }
    },
    {
      "cell_type": "code",
      "source": [
        "#load ppt file\n",
        "ppt = pptx.Presentation('Architecture_Design.pptx')\n",
        "\n",
        "#for full slide\n",
        "full_slide = []\n",
        "content_full = \"Entire contents: \"\n",
        "for i, slide in enumerate(ppt.slides):\n",
        "  content_full = content_full + f\"  *slide {i}: \"\n",
        "  for shape in slide.shapes:\n",
        "    if hasattr(shape, \"text\"):\n",
        "      content_full = content_full + shape.text\n",
        "full_slide = content_full\n",
        "\n",
        "# print(\"*\"*10)\n",
        "# print(full_slide)\n",
        "\n",
        "#for each slide, keywords\n",
        "each_slide = {} #dictionary form\n",
        "for i, slide in enumerate(ppt.slides):\n",
        "  content_each = \"\"\n",
        "  for shape in slide.shapes:\n",
        "    if hasattr(shape, \"text\"):\n",
        "      content_each = content_each + shape.text\n",
        "  each_slide[f'{i}'] = content_each \n",
        "\n",
        "# print(\"*\"*10)\n",
        "# print(each_slide)"
      ],
      "metadata": {
        "id": "kVsKSlFW4VlJ"
      },
      "execution_count": null,
      "outputs": []
    },
    {
      "cell_type": "markdown",
      "source": [
        "##Full Slide"
      ],
      "metadata": {
        "id": "87o4pEDk4I2t"
      }
    },
    {
      "cell_type": "code",
      "source": [
        "# Summarize the entire Powerpoint file."
      ],
      "metadata": {
        "id": "eIBjxlDSQV2I"
      },
      "execution_count": null,
      "outputs": []
    },
    {
      "cell_type": "code",
      "source": [
        "#prompt demonstration\n",
        "full_system = \"I want you to summarize the given content. I will provide you with the entire contents of a PowerPoint presentation, and you will provide me with a summary of the entire slides.\"\n",
        "full_user = \"\"\n",
        "full_assistant = \"\"\n",
        "prompt_full = make_prompt_format(full_system, full_user, full_assistant)\n",
        "\n",
        "#summarize full slide\n",
        "app_full = ChatApp(prompt_full)\n",
        "message = full_slide\n",
        "result_full = app_full.chat(message)\n",
        "time.sleep(3) #API call restriction, 20 calls per a minute\n",
        "\n",
        "#print result\n",
        "result_full"
      ],
      "metadata": {
        "id": "cZgXLhJK4Q9I",
        "colab": {
          "base_uri": "https://localhost:8080/",
          "height": 125
        },
        "outputId": "6c3704c0-85df-4226-bb56-6c685d664ec3"
      },
      "execution_count": null,
      "outputs": [
        {
          "output_type": "execute_result",
          "data": {
            "text/plain": [
              "'Architectural design is a critical phase that identifies and organizes the main structural components of a system. The output is an architectural model that describes how the system is organized as a set of communicating components. The architecture of a software system affects performance, efficiency, security, and maintainability. Design flaws can result in project failure. Architectural design objectives include maintainability, use of commercial off-the-shelf parts, system performance, security, safety, availability, reliability, fault tolerance, and recovery. Software design is a two-step process that includes architectural design and detailed design. There are four types of systems/subsystems: interactive, event-driven, transformational, and database. Popular software architecture styles include client-server, n-tier or multi-tier, main program and subroutines, event-driven, and persistence framework. The architectural design process involves selecting the appropriate style for the system, specifying subsystem functions and interfaces, and reviewing the design to ensure that requirements and objectives are met. Applying agile principles involves valuing working software over comprehensive documentation and applying the 20/80 rule.'"
            ],
            "application/vnd.google.colaboratory.intrinsic+json": {
              "type": "string"
            }
          },
          "metadata": {},
          "execution_count": 6
        }
      ]
    }
  ]
}